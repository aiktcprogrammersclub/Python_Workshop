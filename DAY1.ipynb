{
 "metadata": {
  "name": "",
  "signature": "sha256:ab40cc936a862db8dee39c193be96dc11b795ae3f952c503942f4d343c8ebc15"
 },
 "nbformat": 3,
 "nbformat_minor": 0,
 "worksheets": [
  {
   "cells": [
    {
     "cell_type": "heading",
     "level": 3,
     "metadata": {},
     "source": [
      "This is a Document for workshop it contains some demonstration purpose programs.    @DAY #1<br />\n",
      "\n",
      "<pre >                                   INDEX:</pre><br /><br />\n",
      "1. My first program<br />\n",
      "2. Pattern program<br />\n",
      "3. Sequences examples (Strings, Tuples, Lists)<br />\n",
      "4. IdChecker.py<br />\n",
      "5. String Templates: Simpler Substitution<br />\n",
      "6. Stirng Functions<br />\n",
      "7. Stack<br />\n",
      "8. Queue<br />\n",
      "9. Tuples<br />\n",
      "10. Copying Python Objects and Shallow and Deep Copies<br />\n"
     ]
    },
    {
     "cell_type": "heading",
     "level": 1,
     "metadata": {},
     "source": [
      "1. My first program"
     ]
    },
    {
     "cell_type": "code",
     "collapsed": false,
     "input": [
      "#To read a file that is unique and insert data into it.\n",
      "\n",
      "import os\n",
      "''' Doc String goes here'''\n",
      "ls  = os.linesep\n",
      "\n",
      "while True:\n",
      "    filename = raw_input(\"Provide a unique filename\")\n",
      "    if(os.path.exists(filename)):\n",
      "        print \"%s file already exist\" % filename\n",
      "    else:\n",
      "        break\n",
      "#fill up the file\n",
      "all = []\n",
      "print \"press '.'to stop editing\"\n",
      "while True:\n",
      "    entry = raw_input('> ')\n",
      "    if(entry == '.'):\n",
      "        break\n",
      "else:\n",
      "    all.append(entry)\n",
      "\n",
      "#commit to file\n",
      "\n",
      "handle = open(filename, 'w')\n",
      "handle.writelines([\"%s %s\" % (x, ls) for x in all] )\n",
      "handle.close()\n",
      "print \"DONE!\""
     ],
     "language": "python",
     "metadata": {},
     "outputs": []
    },
    {
     "cell_type": "heading",
     "level": 1,
     "metadata": {},
     "source": [
      "2. Pattern program"
     ]
    },
    {
     "cell_type": "code",
     "collapsed": false,
     "input": [
      "#TO print a pattern.\n",
      "s = \"abcdef\"\n",
      "i = -1\n",
      "for i in range(-1, -len(s), -1):\n",
      "    print s[:i]\n"
     ],
     "language": "python",
     "metadata": {
      "slideshow": {
       "slide_type": "slide"
      }
     },
     "outputs": [
      {
       "output_type": "stream",
       "stream": "stdout",
       "text": [
        "abcde\n",
        "abcd\n",
        "abc\n",
        "ab\n",
        "a\n"
       ]
      }
     ],
     "prompt_number": 5
    },
    {
     "cell_type": "heading",
     "level": 1,
     "metadata": {},
     "source": [
      "3. Sequences examples (Strings, Tuples, Lists)"
     ]
    },
    {
     "cell_type": "code",
     "collapsed": false,
     "input": [
      "#BIF\n",
      "x = 80\n",
      "\n",
      "#ENUMERATE\n",
      "a = range(10)\n",
      "for i, j in enumerate(a):   #it returns a tuple of index and value.\n",
      "    print i, j\n",
      "    \n",
      "print '-'*x\n",
      "\n",
      "#LEN\n",
      "print \"length = \", len(a)\n",
      "\n",
      "print '-'*x\n",
      "\n",
      "#MAX\n",
      "print \"MAX = \", max(a)\n",
      "\n",
      "print '-'*x\n",
      "\n",
      "#MIN\n",
      "print \"MIN = \", min(a)\n",
      "\n",
      "print '-'*x\n",
      "\n",
      "#SUM\n",
      "print \"SUM = \", sum(a)\n",
      "\n",
      "print '-'*x\n",
      "\n",
      "#SORTED\n",
      "print \"SORTED = \", sorted(a)\n",
      "\n",
      "print '-'*x\n",
      "\n",
      "#REVERSED\n",
      "print \"REVERSED = \",[ x for x in reversed(a)]\n",
      "\n",
      "x = 80\n",
      "print '-'*x\n",
      "\n",
      "#ZIP\n",
      "''' RETURNS A CARDINALLITY BETWEEN a AND b'''\n",
      "a = range(10)\n",
      "b = range(8)\n",
      "print \"ZIP = \", zip(a, b)\n",
      "\n",
      "\n",
      "#Membership ( in, not in ):\n",
      "print '-' * x\n",
      "\n",
      "print 5 in a\n",
      "print 100 not in a\n",
      "\n"
     ],
     "language": "python",
     "metadata": {},
     "outputs": [
      {
       "output_type": "stream",
       "stream": "stdout",
       "text": [
        "0 0\n",
        "1 1\n",
        "2 2\n",
        "3 3\n",
        "4 4\n",
        "5 5\n",
        "6 6\n",
        "7 7\n",
        "8 8\n",
        "9 9\n",
        "--------------------------------------------------------------------------------\n",
        "length =  10\n",
        "--------------------------------------------------------------------------------\n",
        "MAX =  9\n",
        "--------------------------------------------------------------------------------\n",
        "MIN =  0\n",
        "--------------------------------------------------------------------------------\n",
        "SUM =  45\n",
        "--------------------------------------------------------------------------------\n",
        "SORTED =  [0, 1, 2, 3, 4, 5, 6, 7, 8, 9]\n",
        "--------------------------------------------------------------------------------\n",
        "REVERSED =  [9, 8, 7, 6, 5, 4, 3, 2, 1, 0]\n",
        "--------------------------------------------------------------------------------\n",
        "ZIP =  [(0, 0), (1, 1), (2, 2), (3, 3), (4, 4), (5, 5), (6, 6), (7, 7)]\n",
        "--------------------------------------------------------------------------------\n",
        "True\n",
        "True\n"
       ]
      }
     ],
     "prompt_number": 27
    },
    {
     "cell_type": "heading",
     "level": 1,
     "metadata": {},
     "source": [
      "4. IDChecker.py"
     ]
    },
    {
     "cell_type": "code",
     "collapsed": false,
     "input": [
      "#IDChecker.py\n",
      "\n",
      "#!/usr/bin/env python\n",
      "\n",
      "import string\n",
      "\n",
      "alphas   = string.letters + '_'\n",
      "num      =  string.digits\n",
      "\n",
      "print 'Testees must be at least 2 chars long.'\n",
      "myInput = raw_input('Identifier to test? ')\n",
      "\n",
      "if len(myInput) > 1:\n",
      "    if myInput[0] not in alphas:\n",
      "        print \"ERROR: First symbol must be alphabetic\"\n",
      "    else:\n",
      "        for otherChar in myInput[1:]:\n",
      "            if otherChar  not in alphas+num:\n",
      "                print \"ERROR: Remaining symbols must be alphanumeric\"\n",
      "                break\n",
      "        else:\n",
      "            print \"Okay as an Identifier\"\n"
     ],
     "language": "python",
     "metadata": {},
     "outputs": [
      {
       "output_type": "stream",
       "stream": "stdout",
       "text": [
        "Testees must be at least 2 chars long.\n"
       ]
      },
      {
       "name": "stdout",
       "output_type": "stream",
       "stream": "stdout",
       "text": [
        "Identifier to test? zain@@@\n"
       ]
      },
      {
       "output_type": "stream",
       "stream": "stdout",
       "text": [
        "ERROR: Remaining symbols must be alphanumeric\n"
       ]
      }
     ],
     "prompt_number": 38
    },
    {
     "cell_type": "heading",
     "level": 1,
     "metadata": {},
     "source": [
      "5.String Templates: Simpler Substitution"
     ]
    },
    {
     "cell_type": "code",
     "collapsed": false,
     "input": [
      "from string import Template\n",
      "\n",
      "s = Template('There are ${howmany} ${lang} quotation symbols')\n",
      "print s.safe_substitute(lang = 'Python', howmany = 3)\n"
     ],
     "language": "python",
     "metadata": {},
     "outputs": [
      {
       "output_type": "stream",
       "stream": "stdout",
       "text": [
        "There are 3 Python quotation symbols\n"
       ]
      }
     ],
     "prompt_number": 46
    },
    {
     "cell_type": "heading",
     "level": 1,
     "metadata": {},
     "source": [
      "6. String Functions"
     ]
    },
    {
     "cell_type": "code",
     "collapsed": false,
     "input": [
      "quest = 'what is your favorite color?'\n",
      "\n",
      "print len(quest)\n",
      "print quest.capitalize()\n",
      "print quest.center(40)\n",
      "print quest.count('or')\n",
      "print quest.endswith('blue')\n",
      "print quest.endswith('color?')\n",
      "\n",
      "print quest.find('or', 30)\n",
      "print quest.find('or', 22)\n",
      "print quest.index('or', 24)\n",
      "print ':'.join(quest.split())\n",
      "print quest.replace('favorite color', 'quest')\n",
      "print quest.upper()"
     ],
     "language": "python",
     "metadata": {},
     "outputs": [
      {
       "output_type": "stream",
       "stream": "stdout",
       "text": [
        "28\n",
        "What is your favorite color?\n",
        "      what is your favorite color?      \n",
        "2\n",
        "False\n",
        "True\n",
        "-1\n",
        "25\n",
        "25\n",
        "what:is:your:favorite:color?\n",
        "what is your quest?\n",
        "WHAT IS YOUR FAVORITE COLOR?\n"
       ]
      }
     ],
     "prompt_number": 68
    },
    {
     "cell_type": "heading",
     "level": 1,
     "metadata": {},
     "source": [
      "7. Stack\n"
     ]
    },
    {
     "cell_type": "code",
     "collapsed": false,
     "input": [
      "stack = []\n",
      "\n",
      "def pushit():\n",
      "    stack.append(raw_input('Enter a new String: ').strip())\n",
      "\n",
      "def popit():\n",
      "    if len(stack) == 0:\n",
      "        print \"Stack underflow\"\n",
      "        \n",
      "    else:\n",
      "        print 'Removed [', stack.pop(), ']'\n",
      "def viewstack():\n",
      "        print [i for i in stack]\n",
      "\n",
      "CMDs = {'u': pushit, 'o': popit, 'v': viewstack}\n",
      "\n",
      "def show_menu():\n",
      "        pr = \"\"\"\n",
      "            p(U)sh\n",
      "            p(O)p\n",
      "            (V)iew\n",
      "            (Q)uit\n",
      "            \n",
      "            Enter choice:  \"\"\"\n",
      "        while True:\n",
      "            while True:\n",
      "                try:\n",
      "                    choice = raw_input(pr).strip()[0].lower()\n",
      "                except (EOFError,KeyboardInterrupt,IndexError):\n",
      "                    choice = 'q'\n",
      "                print \"you have selected %s \" % choice\n",
      "                if(choice not in \"uovq\"):\n",
      "                    print \"Invalid selection try again\"\n",
      "                else:\n",
      "                    break\n",
      "            if (choice == 'q'):\n",
      "                break\n",
      "            CMDs[choice]()\n",
      "show_menu()                    "
     ],
     "language": "python",
     "metadata": {},
     "outputs": [
      {
       "name": "stdout",
       "output_type": "stream",
       "stream": "stdout",
       "text": [
        "\n",
        "            p(U)sh\n",
        "            p(O)p\n",
        "            (V)iew\n",
        "            (Q)uit\n",
        "            \n",
        "            Enter choice:  q\n"
       ]
      },
      {
       "output_type": "stream",
       "stream": "stdout",
       "text": [
        "you have selected q \n"
       ]
      }
     ],
     "prompt_number": 6
    },
    {
     "cell_type": "heading",
     "level": 1,
     "metadata": {},
     "source": [
      "8. Queue"
     ]
    },
    {
     "cell_type": "code",
     "collapsed": false,
     "input": [
      "queue = []\n",
      "\n",
      "def enq():\n",
      "    queue.append(raw_input('Enter a new String: ').strip())\n",
      "\n",
      "def deq():\n",
      "    if len(stack) == 0:\n",
      "        print \"Queue is empty\"\n",
      "        \n",
      "    else:\n",
      "        print 'Removed [', queue.pop(0), ']'\n",
      "\n",
      "def viewqueue():\n",
      "    print queue\n",
      "\n",
      "CMDs = {'e': enq, 'd': deq, 'v': viewqueue}\n",
      "\n",
      "def show_menu():\n",
      "        pr = \"\"\"\n",
      "            (E)nq\n",
      "            (D)eq\n",
      "            (V)iew\n",
      "            (Q)uit\n",
      "            \n",
      "            Enter choice:  \"\"\"\n",
      "        while True:\n",
      "            while True:\n",
      "                try:\n",
      "                    choice = raw_input(pr).strip()[0].lower()\n",
      "                except (EOFError,KeyboardInterrupt,IndexError):\n",
      "                    choice = 'q'\n",
      "                print \"you have selected %s \" % choice\n",
      "                if(choice not in \"edvq\"):\n",
      "                    print \"Invalid selection try again\"\n",
      "                else:\n",
      "                    break\n",
      "            if (choice == 'q'):\n",
      "                break\n",
      "            CMDs[choice]()\n",
      "show_menu()                    "
     ],
     "language": "python",
     "metadata": {},
     "outputs": [
      {
       "name": "stdout",
       "output_type": "stream",
       "stream": "stdout",
       "text": [
        "\n",
        "            (E)nq\n",
        "            (D)eq\n",
        "            (V)iew\n",
        "            (Q)uit\n",
        "            \n",
        "            Enter choice:  q\n"
       ]
      },
      {
       "output_type": "stream",
       "stream": "stdout",
       "text": [
        "you have selected q \n"
       ]
      }
     ],
     "prompt_number": 12
    },
    {
     "cell_type": "heading",
     "level": 1,
     "metadata": {},
     "source": [
      "9. Tuples fundamentals:"
     ]
    },
    {
     "cell_type": "code",
     "collapsed": false,
     "input": [
      "''' How to Create and Assign Tuples ? '''\n",
      "a = (1, 2, 3, ['a', 'b'], complex(4))\n",
      "print a, type(a)\n",
      "s = \"bar\"\n",
      "c = tuple(s)\n",
      "print c\n",
      "\n",
      "'''\tHow to Access Values in Tuples ?'''\n",
      "\n",
      "print a[0:4]\n",
      "print a[3][0]\n",
      "\n",
      "'''\tHow to Update Tuples ? '''\n",
      "\n",
      "a = a[0], a[3]\n",
      "print a\n",
      "''' \tHow to Remove Tuple Elements and Tuples ? '''\n",
      "\n",
      "del a\n",
      "\n"
     ],
     "language": "python",
     "metadata": {},
     "outputs": [
      {
       "output_type": "stream",
       "stream": "stdout",
       "text": [
        "(1, 2, 3, ['a', 'b'], (4+0j)) <type 'tuple'>\n",
        "('b', 'a', 'r')\n",
        "(1, 2, 3, ['a', 'b'])\n",
        "a\n",
        "(1, ['a', 'b'])\n"
       ]
      }
     ],
     "prompt_number": 31
    },
    {
     "cell_type": "heading",
     "level": 1,
     "metadata": {},
     "source": [
      "10. *Copying Python Objects and Shallow and Deep Copies:"
     ]
    },
    {
     "cell_type": "code",
     "collapsed": false,
     "input": [
      "#SHALLOW COPIES.\n",
      "\n",
      "person = ['name', ['saving', 1000.0]]\n",
      "hubby = person[:]\n",
      "wifey = list(person)\n",
      "print [id(x) for x in person, hubby, wifey]\n",
      "\n",
      "print \"\"\n",
      "\n",
      "hubby[0] = 'joe'\n",
      "wifey[0]  = 'jane'\n",
      "print hubby, wifey\n",
      "hubby[1][1] = 50.0\n",
      "print hubby, wifey\n",
      "\n",
      "print \"\"\n",
      "\n",
      "print [id(x) for x in hubby]\n",
      "print [id(x) for x in wifey]"
     ],
     "language": "python",
     "metadata": {},
     "outputs": [
      {
       "output_type": "stream",
       "stream": "stdout",
       "text": [
        "[140197556715176, 140197534611864, 140197534577368]\n",
        "\n",
        "['joe', ['saving', 1000.0]] ['jane', ['saving', 1000.0]]\n",
        "['joe', ['saving', 50.0]] ['jane', ['saving', 50.0]]\n",
        "\n",
        "[140197533708336, 140197556781000]\n",
        "[140197533855888, 140197556781000]\n"
       ]
      }
     ],
     "prompt_number": 48
    },
    {
     "cell_type": "code",
     "collapsed": false,
     "input": [
      "#DEEP COPY\n",
      "\n",
      "import copy\n",
      "person = ['name', ['saving', 1000.0]]\n",
      "hubby = person[:]\n",
      "wifey = copy.deepcopy(person)\n",
      "print [id(x) for x in person, hubby, wifey]\n",
      "\n",
      "print \"\"\n",
      "\n",
      "hubby[0] = 'joe'\n",
      "wifey[0]  = 'jane'\n",
      "print hubby, wifey\n",
      "hubby[1][1] = 50.0\n",
      "print hubby, wifey\n",
      "\n",
      "print \"\"\n",
      "\n",
      "print [id(x) for x in hubby]\n",
      "print [id(x) for x in wifey]\n"
     ],
     "language": "python",
     "metadata": {},
     "outputs": [
      {
       "output_type": "stream",
       "stream": "stdout",
       "text": [
        "[140197534578448, 140197534578592, 140197556715176]\n",
        "\n",
        "['joe', ['saving', 1000.0]] ['jane', ['saving', 1000.0]]\n",
        "['joe', ['saving', 50.0]] ['jane', ['saving', 1000.0]]\n",
        "\n",
        "[140197533708336, 140197598980000]\n",
        "[140197533855888, 140197535011400]\n"
       ]
      }
     ],
     "prompt_number": 49
    }
   ],
   "metadata": {}
  }
 ]
}