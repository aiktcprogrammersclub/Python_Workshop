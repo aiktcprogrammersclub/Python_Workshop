{
 "metadata": {
  "name": "",
  "signature": "sha256:1f9053257a1724c9a18cfbc9e4a4e7624e590368cdbfe62034aef77893a0a84c"
 },
 "nbformat": 3,
 "nbformat_minor": 0,
 "worksheets": [
  {
   "cells": [
    {
     "cell_type": "code",
     "collapsed": false,
     "input": [
      "mail"
     ],
     "language": "python",
     "metadata": {},
     "outputs": [
      {
       "output_type": "stream",
       "stream": "stdout",
       "text": [
        " created a class variable for  zain\n",
        "Name is:  zain\n",
        "Name is:  FooClass\n",
        "1.0\n"
       ]
      }
     ],
     "prompt_number": 23
    }
   ],
   "metadata": {}
  }
 ]
}