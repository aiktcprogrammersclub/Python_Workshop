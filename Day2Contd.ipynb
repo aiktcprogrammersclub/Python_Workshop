{
 "metadata": {
  "name": "",
  "signature": "sha256:7fd2f8eae6ff5b8359792b3dc4ea949b04a11990a994105f8b9e4f1672f217a0"
 },
 "nbformat": 3,
 "nbformat_minor": 0,
 "worksheets": [
  {
   "cells": [
    {
     "cell_type": "markdown",
     "metadata": {},
     "source": [
      "#                                                  Day #2 Functions [INDEX]\n",
      "============================================================================\n",
      "\n",
      "+ What Are Functions?\n",
      "+ Functions versus Procedures\n",
      "+ Return Values and Function Types\n",
      "+ Calling Functions\n",
      "    + Function Operator\n",
      "    + Keyword Arguments\n",
      "    + Default Arguments\n",
      "    + Grouped Arguments\n",
      "+ Arithmetic Game ( easyMath.py )\n",
      "+ Creating Functions\n",
      "\t+ def Statement\n",
      "\t+\t\tDeclaration versus Definition\n",
      "\t+\t\tForward References\n",
      "\t+\t\tFunction Attributes\n",
      "\t+\t\tInner or Nested Functions\n",
      "\t+\t\t*Function (and Method) Decorators\n",
      "\t+\t\tSo What Are Decorators?\n",
      "\t+\t\tExample of Using a Function Decorator ( deco.py )    \n"
     ]
    },
    {
     "cell_type": "markdown",
     "metadata": {},
     "source": [
      "## What Are Functions?\n",
      "\n",
      "+ Functions are the structured or procedural programming way of organizing the logic in your programs.\n",
      "Large blocks of code can be neatly segregated into manageable chunks, and space is saved by putting\n",
      "oft-repeated code in functions as opposed to multiple copies everywherethis also helps with consistency\n",
      "because changing the single copy means you do not have to hunt for and make changes to multiple\n",
      "copies of duplicated code."
     ]
    },
    {
     "cell_type": "code",
     "collapsed": false,
     "input": [
      "def foo(): \n",
      "    print 'bar'\n",
      "\n",
      "print type(foo)\n",
      "foo()"
     ],
     "language": "python",
     "metadata": {},
     "outputs": [
      {
       "output_type": "stream",
       "stream": "stdout",
       "text": [
        "<type 'function'>\n",
        "bar\n"
       ]
      }
     ],
     "prompt_number": 10
    },
    {
     "cell_type": "markdown",
     "metadata": {},
     "source": [
      "## Functions versus Procedures\n",
      "+   Function return value, Procedures don't"
     ]
    },
    {
     "cell_type": "code",
     "collapsed": false,
     "input": [
      "3"
     ],
     "language": "python",
     "metadata": {},
     "outputs": []
    }
   ],
   "metadata": {}
  }
 ]
}