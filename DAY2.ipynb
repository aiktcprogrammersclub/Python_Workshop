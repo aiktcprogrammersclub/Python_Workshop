{
 "metadata": {
  "name": "",
  "signature": "sha256:dd65bceba13da66c0c02ed362510cf6059382eae48f69bcd6417a93de0a2dabf"
 },
 "nbformat": 3,
 "nbformat_minor": 0,
 "worksheets": [
  {
   "cells": [
    {
     "cell_type": "heading",
     "level": 3,
     "metadata": {},
     "source": [
      "<pre>                  INDEX @DAY #2 </pre>\n",
      "<ol>\n",
      " <li>Dictionaries</li>\n",
      " <li>UserPWD.py</li>\n",
      "  <li>Set operations</li>\n",
      "   <li>Set operations</li>\n",
      "    <li>Cross-Product Pairs Example</li>\n",
      "    <li>Files and Input/Output</li>\n",
      " </ol>"
     ]
    },
    {
     "cell_type": "heading",
     "level": 1,
     "metadata": {},
     "source": [
      "1. Dictionaries"
     ]
    },
    {
     "cell_type": "code",
     "collapsed": false,
     "input": [
      "#How to Create and Assign Dictionaries\n",
      "#python 2.1\n",
      "dict0 = {}\n",
      "dict1 = {'planet' : 'Earth', 'life'  : True}\n",
      "print dict0, dict1\n",
      "\n",
      "print '-'*100\n",
      "#python 2.2\n",
      "#d = dict((['a', 1], ['b', 2]))\n",
      "\n",
      "print '-'*100\n",
      "#2.3\n",
      "dd = {}.fromkeys(('x', 'y'), -1)\n",
      "print dd\n",
      "\n",
      "print '-'*100\n",
      "#How to Access Values in Dictionaries\n",
      "for key in dict1.keys():\n",
      "    print \"%s is key, %s is value\" % (key, dict1[key])\n",
      "    \n",
      "print dict1['planet'] \n",
      "print 'humanity' in dict1\n",
      "\n",
      "print '-'*100\n",
      "#How to Update Dictionaries\n",
      "dict1['humanity'] = True\n",
      "print 'humanity' in dict1, dict1\n",
      "\n",
      "print '-'*100\n",
      "#How to Remove Dictionary Elements and Dictionaries\n",
      "\n",
      "del dict1['life']\n",
      "print dict1\n",
      "print dict1.pop('planet')\n",
      "\n",
      "#Mapping Type Related Functions\n",
      "#dd = dict(zip(('a', 'b'), (1, 2)))\n",
      "#print dd\n",
      "\n",
      "#ddd = dict(x=0, y=2)\n",
      "\n"
     ],
     "language": "python",
     "metadata": {},
     "outputs": [
      {
       "output_type": "stream",
       "stream": "stdout",
       "text": [
        "{} {'planet': 'Earth', 'life': True}\n",
        "----------------------------------------------------------------------------------------------------\n",
        "----------------------------------------------------------------------------------------------------\n",
        "{'y': -1, 'x': -1}\n",
        "----------------------------------------------------------------------------------------------------\n",
        "planet is key, Earth is value\n",
        "life is key, True is value\n",
        "Earth\n",
        "False\n",
        "----------------------------------------------------------------------------------------------------\n",
        "True {'planet': 'Earth', 'life': True, 'humanity': True}\n",
        "----------------------------------------------------------------------------------------------------\n",
        "{'planet': 'Earth', 'humanity': True}\n",
        "Earth\n"
       ]
      }
     ],
     "prompt_number": 51
    },
    {
     "cell_type": "heading",
     "level": 1,
     "metadata": {},
     "source": [
      "2. UserPWD.py"
     ]
    },
    {
     "cell_type": "code",
     "collapsed": false,
     "input": [
      "\n",
      "db = {}\n",
      "\n",
      "def newUser():\n",
      "    promt = \"Login Desired: \"\n",
      "    while True:\n",
      "        username = raw_input(promt)\n",
      "        if db.has_key(username):\n",
      "            print \"Username already exist, choose a new one\"\n",
      "            continue\n",
      "        else:\n",
      "            break\n",
      "    pwd = raw_input('Password: ')\n",
      "    db[username] = pwd\n",
      "        \n",
      "    \n",
      "\n",
      "def oldUser():\n",
      "    name = raw_input(\"username: \")\n",
      "    passwd = raw_input(\"passwd: \")\n",
      "    pwd = db.get(name)\n",
      "    if passwd == pwd:\n",
      "        print \"Welcome %s\" % name\n",
      "    else:\n",
      "        print \"Invalid username or password\"\n",
      "        \n",
      "    \n",
      "def showcmd():\n",
      "    pr = \"\"\"\n",
      "        (N)ewUser\n",
      "        (E)xisting User\n",
      "        (Q)uit\n",
      "        enter choice:     \n",
      "    \"\"\"\n",
      "    done = False\n",
      "    while  not done:\n",
      "        chosen = False\n",
      "        while not chosen:\n",
      "            try:\n",
      "                choice = raw_input(pr).strip()[0].lower()\n",
      "            except:\n",
      "                choice = 'q'\n",
      "            print \"Your selected %s\", choice\n",
      "            if choice not in \"neq\":\n",
      "                print \"invalid chioce\"\n",
      "            else:\n",
      "                chosen = True\n",
      "        if choice == 'q': done = True\n",
      "        if choice == 'n': newUser()\n",
      "        if choice == 'e': oldUser()\n",
      "            \n",
      "if __name__ == '__main__':\n",
      "    showcmd()\n",
      "    \n",
      "                "
     ],
     "language": "python",
     "metadata": {},
     "outputs": [
      {
       "name": "stdout",
       "output_type": "stream",
       "stream": "stdout",
       "text": [
        "\n",
        "        (N)ewUser\n",
        "        (E)xisting User\n",
        "        (Q)uit\n",
        "        enter choice:     \n",
        "    q\n"
       ]
      },
      {
       "output_type": "stream",
       "stream": "stdout",
       "text": [
        "Your selected %s q\n"
       ]
      }
     ],
     "prompt_number": 61
    },
    {
     "cell_type": "heading",
     "level": 1,
     "metadata": {},
     "source": [
      "3.Set operations"
     ]
    },
    {
     "cell_type": "code",
     "collapsed": false,
     "input": [
      "'''\tHow to Create and Assign Set Types ?'''\n",
      "s = set('cheeseshop')\n",
      "print s\n",
      "t = frozenset('bookshop')\n",
      "print t\n",
      "'''\tHow to Access Values in Sets ?'''\n",
      "for i in s:\n",
      "    print i\n",
      "print 'k' in s\n",
      "print 'k' in t\n",
      "'''\tHow to Update Sets ?'''\n",
      "s.add('z')\n",
      "print s\n",
      "s.update('pip')\n",
      "print s\n",
      "s.remove('z')\n",
      "print s\n",
      "#t.add('z') not allowed as t is a frozenset\n",
      "\n",
      "'''\tHow to Remove Set Members and Sets ?'''\n",
      "s.pop()\n",
      "print s\n",
      "s.remove('p')\n",
      "print s"
     ],
     "language": "python",
     "metadata": {},
     "outputs": [
      {
       "output_type": "stream",
       "stream": "stdout",
       "text": [
        "set(['c', 'e', 'h', 'o', 'p', 's'])\n",
        "frozenset(['b', 'h', 'k', 'o', 'p', 's'])\n",
        "c\n",
        "e\n",
        "h\n",
        "o\n",
        "p\n",
        "s\n",
        "False\n",
        "True\n",
        "set(['c', 'e', 'h', 'o', 'p', 's', 'z'])\n",
        "set(['c', 'e', 'i', 'h', 'o', 'p', 's', 'z'])\n",
        "set(['c', 'e', 'i', 'h', 'o', 'p', 's'])\n",
        "set(['e', 'i', 'h', 'o', 'p', 's'])\n",
        "set(['e', 'i', 'h', 'o', 's'])\n"
       ]
      }
     ],
     "prompt_number": 72
    },
    {
     "cell_type": "heading",
     "level": 1,
     "metadata": {},
     "source": [
      "4.Set Operators"
     ]
    },
    {
     "cell_type": "code",
     "collapsed": false,
     "input": [
      "#Set Type Operators:\n",
      "\n",
      "'''Membership ( in, not in )'''\n",
      "s = set('cheeseshop')\n",
      "t = frozenset('bookshop')\n",
      "print 's' in s \n",
      "print  'K' not in s\n",
      "\n",
      "'''\tSet Equality/Inequality'''\n",
      "print s == t\n",
      "u = frozenset(s)\n",
      "print s == u\n",
      "print set('posh') == set('shop')\n",
      "\n",
      "'''\tSubset Of/Superset Of'''\n",
      "print set('shop') < set('bookshop')  #converse is also true '>'\n",
      "\n",
      "\n",
      "'''\tUnion ( | )'''\n",
      "print len(s)\n",
      "print len(t)\n",
      "c = s | t\n",
      "print len(c), c\n",
      "\n",
      "'''\tIntersection ( & )'''\n",
      "print s & t\n",
      "'''\tDifference/Relative Complement ( - )'''\n",
      "print s - t                                        #In s but not in t\n",
      "\n",
      "'''\tSymmetric Difference ( ^ )'''\n",
      "print s ^ t                                       #In s only and t only "
     ],
     "language": "python",
     "metadata": {},
     "outputs": [
      {
       "output_type": "stream",
       "stream": "stdout",
       "text": [
        "True\n",
        "True\n",
        "False\n",
        "True\n",
        "True\n",
        "True\n",
        "6\n",
        "6\n",
        "8 set(['c', 'b', 'e', 'h', 'k', 'o', 'p', 's'])\n",
        "set(['h', 's', 'o', 'p'])\n",
        "set(['c', 'e'])\n",
        "set(['b', 'e', 'k', 'c'])\n"
       ]
      }
     ],
     "prompt_number": 81
    },
    {
     "cell_type": "heading",
     "level": 1,
     "metadata": {},
     "source": [
      "5. Cross-Product Pairs Example"
     ]
    },
    {
     "cell_type": "code",
     "collapsed": false,
     "input": [
      "rows = [1, 2, 3, 17]\n",
      "\n",
      "def cols():\n",
      "    yield 56\n",
      "    yield 2\n",
      "    yield 1\n",
      "    \n",
      "x_product_pair = ((i, j) for i in rows for j in cols())\n",
      "\n",
      "for pair in x_product_pair:\n",
      "    print pair"
     ],
     "language": "python",
     "metadata": {},
     "outputs": [
      {
       "output_type": "stream",
       "stream": "stdout",
       "text": [
        "(1, 56)\n",
        "(1, 2)\n",
        "(1, 1)\n",
        "(2, 56)\n",
        "(2, 2)\n",
        "(2, 1)\n",
        "(3, 56)\n",
        "(3, 2)\n",
        "(3, 1)\n",
        "(17, 56)\n",
        "(17, 2)\n",
        "(17, 1)\n"
       ]
      }
     ],
     "prompt_number": 84
    },
    {
     "cell_type": "heading",
     "level": 1,
     "metadata": {},
     "source": [
      "6. Files and Input/Output:  (File Built-in Functions [ open() and file() ]:)"
     ]
    },
    {
     "cell_type": "code",
     "collapsed": false,
     "input": [],
     "language": "python",
     "metadata": {},
     "outputs": []
    }
   ],
   "metadata": {}
  }
 ]
}