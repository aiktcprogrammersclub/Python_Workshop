{
 "metadata": {
  "name": "",
  "signature": "sha256:f006feea678349522a569c3bf4256000d8a8656021cd01ae8802e55861bbe9d2"
 },
 "nbformat": 3,
 "nbformat_minor": 0,
 "worksheets": [
  {
   "cells": [
    {
     "cell_type": "heading",
     "level": 1,
     "metadata": {},
     "source": [
      "<pre>                  INDEX @DAY #2 </pre>\n",
      "<ol>\n",
      " <li>Dictionaries</li>\n",
      " <li>UserPWD.py</li>\n",
      "  <li>Set operations</li>\n",
      "   <li>Set operators</li>\n",
      "    <li>Cross-Product Pairs Example</li>\n",
      "    <li>Files and Input/Output</li>\n",
      "    <li> Some functions from OS module </li>\n",
      "    <li>Pickling</li>\n",
      "    <li>Shelveing</li>\n",
      "    <li>Errors and Exceptions</li>\n",
      "    <li>Functions and Functional Programming</li>\n",
      "    </ol>"
     ]
    },
    {
     "cell_type": "heading",
     "level": 1,
     "metadata": {},
     "source": [
      "1. Dictionaries"
     ]
    },
    {
     "cell_type": "code",
     "collapsed": false,
     "input": [
      "#How to Create and Assign Dictionaries\n",
      "#python 2.1\n",
      "dict0 = {}\n",
      "dict1 = {'planet' : 'Earth', 'life'  : True}\n",
      "print dict0, dict1\n",
      "\n",
      "print '-'*100\n",
      "#python 2.2\n",
      "#d = dict((['a', 1], ['b', 2]))\n",
      "\n",
      "print '-'*100\n",
      "#2.3\n",
      "dd = {}.fromkeys(('x', 'y'), -1)\n",
      "print dd\n",
      "\n",
      "print '-'*100\n",
      "#How to Access Values in Dictionaries\n",
      "for key in dict1.keys():\n",
      "    print \"%s is key, %s is value\" % (key, dict1[key])\n",
      "    \n",
      "print dict1['planet'] \n",
      "print 'humanity' in dict1\n",
      "\n",
      "print '-'*100\n",
      "#How to Update Dictionaries\n",
      "dict1['humanity'] = True\n",
      "print 'humanity' in dict1, dict1\n",
      "\n",
      "print '-'*100\n",
      "#How to Remove Dictionary Elements and Dictionaries\n",
      "\n",
      "del dict1['life']\n",
      "print dict1\n",
      "print dict1.pop('planet')\n",
      "\n",
      "#Mapping Type Related Functions\n",
      "#dd = dict(zip(('a', 'b'), (1, 2)))\n",
      "#print dd\n",
      "\n",
      "#ddd = dict(x=0, y=2)\n",
      "\n"
     ],
     "language": "python",
     "metadata": {},
     "outputs": [
      {
       "output_type": "stream",
       "stream": "stdout",
       "text": [
        "{} {'planet': 'Earth', 'life': True}\n",
        "----------------------------------------------------------------------------------------------------\n",
        "----------------------------------------------------------------------------------------------------\n",
        "{'y': -1, 'x': -1}\n",
        "----------------------------------------------------------------------------------------------------\n",
        "planet is key, Earth is value\n",
        "life is key, True is value\n",
        "Earth\n",
        "False\n",
        "----------------------------------------------------------------------------------------------------\n",
        "True {'planet': 'Earth', 'life': True, 'humanity': True}\n",
        "----------------------------------------------------------------------------------------------------\n",
        "{'planet': 'Earth', 'humanity': True}\n",
        "Earth\n"
       ]
      }
     ],
     "prompt_number": 51
    },
    {
     "cell_type": "heading",
     "level": 1,
     "metadata": {},
     "source": [
      "2. UserPWD.py"
     ]
    },
    {
     "cell_type": "code",
     "collapsed": false,
     "input": [
      "\n",
      "db = {}\n",
      "\n",
      "def newUser():\n",
      "    promt = \"Login Desired: \"\n",
      "    while True:\n",
      "        username = raw_input(promt)\n",
      "        if db.has_key(username):\n",
      "            print \"Username already exist, choose a new one\"\n",
      "            continue\n",
      "        else:\n",
      "            break\n",
      "    pwd = raw_input('Password: ')\n",
      "    db[username] = pwd\n",
      "        \n",
      "    \n",
      "\n",
      "def oldUser():\n",
      "    name = raw_input(\"username: \")\n",
      "    passwd = raw_input(\"passwd: \")\n",
      "    pwd = db.get(name)\n",
      "    if passwd == pwd:\n",
      "        print \"Welcome %s\" % name\n",
      "    else:\n",
      "        print \"Invalid username or password\"\n",
      "        \n",
      "    \n",
      "def showcmd():\n",
      "    pr = \"\"\"\n",
      "        (N)ewUser\n",
      "        (E)xisting User\n",
      "        (Q)uit\n",
      "        enter choice:     \n",
      "    \"\"\"\n",
      "    done = False\n",
      "    while  not done:\n",
      "        chosen = False\n",
      "        while not chosen:\n",
      "            try:\n",
      "                choice = raw_input(pr).strip()[0].lower()\n",
      "            except:\n",
      "                choice = 'q'\n",
      "            print \"Your selected %s\", choice\n",
      "            if choice not in \"neq\":\n",
      "                print \"invalid chioce\"\n",
      "            else:\n",
      "                chosen = True\n",
      "        if choice == 'q': done = True\n",
      "        if choice == 'n': newUser()\n",
      "        if choice == 'e': oldUser()\n",
      "            \n",
      "if __name__ == '__main__':\n",
      "    showcmd()\n",
      "    \n",
      "                "
     ],
     "language": "python",
     "metadata": {},
     "outputs": [
      {
       "name": "stdout",
       "output_type": "stream",
       "stream": "stdout",
       "text": [
        "\n",
        "        (N)ewUser\n",
        "        (E)xisting User\n",
        "        (Q)uit\n",
        "        enter choice:     \n",
        "    q\n"
       ]
      },
      {
       "output_type": "stream",
       "stream": "stdout",
       "text": [
        "Your selected %s q\n"
       ]
      }
     ],
     "prompt_number": 61
    },
    {
     "cell_type": "heading",
     "level": 1,
     "metadata": {},
     "source": [
      "3.Set operations"
     ]
    },
    {
     "cell_type": "code",
     "collapsed": false,
     "input": [
      "'''\tHow to Create and Assign Set Types ?'''\n",
      "s = set('cheeseshop')\n",
      "print s\n",
      "t = frozenset('bookshop')\n",
      "print t\n",
      "'''\tHow to Access Values in Sets ?'''\n",
      "for i in s:\n",
      "    print i\n",
      "print 'k' in s\n",
      "print 'k' in t\n",
      "'''\tHow to Update Sets ?'''\n",
      "s.add('z')\n",
      "print s\n",
      "s.update('pip')\n",
      "print s\n",
      "s.remove('z')\n",
      "print s\n",
      "#t.add('z') not allowed as t is a frozenset\n",
      "\n",
      "'''\tHow to Remove Set Members and Sets ?'''\n",
      "s.pop()\n",
      "print s\n",
      "s.remove('p')\n",
      "print s"
     ],
     "language": "python",
     "metadata": {},
     "outputs": [
      {
       "output_type": "stream",
       "stream": "stdout",
       "text": [
        "set(['c', 'e', 'h', 'o', 'p', 's'])\n",
        "frozenset(['b', 'h', 'k', 'o', 'p', 's'])\n",
        "c\n",
        "e\n",
        "h\n",
        "o\n",
        "p\n",
        "s\n",
        "False\n",
        "True\n",
        "set(['c', 'e', 'h', 'o', 'p', 's', 'z'])\n",
        "set(['c', 'e', 'i', 'h', 'o', 'p', 's', 'z'])\n",
        "set(['c', 'e', 'i', 'h', 'o', 'p', 's'])\n",
        "set(['e', 'i', 'h', 'o', 'p', 's'])\n",
        "set(['e', 'i', 'h', 'o', 's'])\n"
       ]
      }
     ],
     "prompt_number": 72
    },
    {
     "cell_type": "heading",
     "level": 1,
     "metadata": {},
     "source": [
      "4.Set Operators"
     ]
    },
    {
     "cell_type": "code",
     "collapsed": false,
     "input": [
      "#Set Type Operators:\n",
      "\n",
      "'''Membership ( in, not in )'''\n",
      "s = set('cheeseshop')\n",
      "t = frozenset('bookshop')\n",
      "print 's' in s \n",
      "print  'K' not in s\n",
      "\n",
      "'''\tSet Equality/Inequality'''\n",
      "print s == t\n",
      "u = frozenset(s)\n",
      "print s == u\n",
      "print set('posh') == set('shop')\n",
      "\n",
      "'''\tSubset Of/Superset Of'''\n",
      "print set('shop') < set('bookshop')  #converse is also true '>'\n",
      "\n",
      "\n",
      "'''\tUnion ( | )'''\n",
      "print len(s)\n",
      "print len(t)\n",
      "c = s | t\n",
      "print len(c), c\n",
      "\n",
      "'''\tIntersection ( & )'''\n",
      "print s & t\n",
      "'''\tDifference/Relative Complement ( - )'''\n",
      "print s - t                                        #In s but not in t\n",
      "\n",
      "'''\tSymmetric Difference ( ^ )'''\n",
      "print s ^ t                                       #In s only and t only "
     ],
     "language": "python",
     "metadata": {},
     "outputs": [
      {
       "output_type": "stream",
       "stream": "stdout",
       "text": [
        "True\n",
        "True\n",
        "False\n",
        "True\n",
        "True\n",
        "True\n",
        "6\n",
        "6\n",
        "8 set(['c', 'b', 'e', 'h', 'k', 'o', 'p', 's'])\n",
        "set(['h', 's', 'o', 'p'])\n",
        "set(['c', 'e'])\n",
        "set(['b', 'e', 'k', 'c'])\n"
       ]
      }
     ],
     "prompt_number": 81
    },
    {
     "cell_type": "heading",
     "level": 1,
     "metadata": {},
     "source": [
      "5. Cross-Product Pairs Example"
     ]
    },
    {
     "cell_type": "code",
     "collapsed": false,
     "input": [
      "rows = [1, 2, 3, 17]\n",
      "\n",
      "def cols():\n",
      "    yield 56\n",
      "    yield 2\n",
      "    yield 1\n",
      "    \n",
      "x_product_pair = ((i, j) for i in rows for j in cols())\n",
      "\n",
      "for pair in x_product_pair:\n",
      "    print pair"
     ],
     "language": "python",
     "metadata": {},
     "outputs": []
    },
    {
     "cell_type": "heading",
     "level": 1,
     "metadata": {},
     "source": [
      "6. Files and Input/Output:  (File Built-in Functions [ open() and file() ]:)"
     ]
    },
    {
     "cell_type": "code",
     "collapsed": false,
     "input": [
      "#SOME BASIC FILE HANDLING\n",
      "\n",
      "# Open a file\n",
      "name = raw_input(\"Give the file-name: \")\n",
      "fo = open(name, \"r\")\n",
      "str = fo.read(10);\n",
      "print \"Read String is : \", str\n",
      "\n",
      "# Check current position\n",
      "position = fo.tell();\n",
      "print \"Current file position : \", position\n",
      "\n",
      "# Reposition pointer at the beginning once again\n",
      "position = fo.seek(0, 0);\n",
      "str = fo.read(10);\n",
      "print \"Again read String is : \", str\n",
      "\n",
      "print '-'*100, \"\\n\"\n",
      "\n",
      "#File as an iterator.\n",
      "fo.seek(0, 0)\n",
      "for i in fo:\n",
      "    print i\n",
      "\n",
      "print '-'*100, \"\\n\"\n",
      "\n",
      "print fo.closed\n",
      "print fo.mode\n",
      "print fo.name\n",
      "\n",
      "    \n",
      "\n",
      "# Close opend file\n",
      "fo.close()\n",
      "\n",
      "\n"
     ],
     "language": "python",
     "metadata": {},
     "outputs": [
      {
       "name": "stdout",
       "output_type": "stream",
       "stream": "stdout",
       "text": [
        "Give the file-name: myf\n"
       ]
      },
      {
       "output_type": "stream",
       "stream": "stdout",
       "text": [
        "Read String is :  sayed \n",
        "zai\n",
        "Current file position :  10\n",
        "Again read String is :  sayed \n",
        "zai\n",
        "---------------------------------------------------------------------------------------------------- \n",
        "\n",
        "sayed \n",
        "\n",
        "zainul \n",
        "\n",
        "abideen \n",
        "\n",
        "---------------------------------------------------------------------------------------------------- \n",
        "\n",
        "False\n",
        "r\n",
        "myf\n"
       ]
      }
     ],
     "prompt_number": 43
    },
    {
     "cell_type": "raw",
     "metadata": {},
     "source": [
      "''' General syntax:  file_object = open(file_name, access_mode='r', buffering=-1) '''\n",
      "\n",
      "''' access modes: r, w, a, r+, w+, a+, rb, rb+, ...    '''\n",
      "#To read a file that is unique and insert data into it.\n",
      "\n",
      "import os\n",
      "''' Doc String goes here'''\n",
      "ls  = os.linesep\n",
      "\n",
      "while True:\n",
      "    filename = raw_input(\"Provide a unique filename: \")\n",
      "    if(os.path.exists(filename)):\n",
      "        print \"%s file already exist\" % filename\n",
      "    else:\n",
      "        break\n",
      "#fill up the file\n",
      "all = []\n",
      "print \"press '.'to stop editing\"\n",
      "while True:\n",
      "    entry = raw_input('> ')\n",
      "    if(entry == '.'):\n",
      "        break\n",
      "    else:\n",
      "        all.append(entry)\n",
      "\n",
      "    \n",
      "#commit to file\n",
      "handle = open(filename, 'w')\n",
      "print [\"%s %s\" % (x, ls) for x in all]\n",
      "handle.writelines([\"%s %s\" % (x, ls) for x in all] )\n",
      "handle.close()\n",
      "print \"DONE!\""
     ]
    },
    {
     "cell_type": "heading",
     "level": 1,
     "metadata": {},
     "source": [
      "\n",
      "7. Some functions from OS module "
     ]
    },
    {
     "cell_type": "code",
     "collapsed": false,
     "input": [
      "import os\n",
      "\n",
      "os.system('touch deleteME')\n",
      "os.system('mkdir ./tmp/tobeDeleted')\n",
      "os.chdir('/home/zain101/Documents/PythonWorkshop')\n",
      "\n",
      "#Renaming and Deleting Files\n",
      "\n",
      "os.rename('renameMe', 'alreadyRenamed')\n",
      "os.remove('deleteME')\n",
      "os.mkdir('myDir')\n",
      "print \"Current working dir is: \", os.getcwd()\n",
      "os.chdir('tmp')\n",
      "print \"Current working dir is: \", os.getcwd()\n",
      "os.rmdir( \"tobeDeleted\"  )\n"
     ],
     "language": "python",
     "metadata": {},
     "outputs": [],
     "prompt_number": 52
    },
    {
     "cell_type": "heading",
     "level": 1,
     "metadata": {},
     "source": [
      "\n",
      "8. Pickling\n",
      "\n",
      "<h3 align = \"center\">\n",
      "    What is pickling? </h3><br />\n",
      "<p>Pickling - is the process of \n",
      "preserving food \n",
      "by \n",
      "anaerobic fermentation in brine (a solution of salt in \n",
      "water), to produce lactic acid, or marinating and \n",
      "storing it in an acid solution, usually vinegar (acetic \n",
      "acid). The resulting food is called a pickle. This \n",
      "procedure gives the food a salty or sour taste.  \n",
      "    \u2013 Wikipeadia </p>\n",
      "<h3 align = \"center\">\n",
      "    Pickling in Python  </h3><br />\n",
      "\n",
      "<p>\n",
      "    <b>DUMP</b>\n",
      "\u2022 \u2018Pickling\u2019 is the process whereby a Python object \n",
      "hierarchy is converted into a byte stream \n",
      "</p>\n",
      "<p>\n",
      "    <b>LOAD</b>\n",
      "\u2022 \u2018Unpickling\u2019 is the inverse operation, whereby a byte \n",
      "stream is converted back into an object hierarchy.      \n",
      "</p>    \n",
      "<h3 align=\"center\">Pickling is great... but...</h3>\n",
      "<p><b>Two problems</b></p>\n",
      "<p>Pickle files are not backward compatible</p>\n",
      "<p>Pickle files must be accessed in sequential order</p>\n"
     ]
    },
    {
     "cell_type": "code",
     "collapsed": false,
     "input": [
      "import pickle\n",
      "\n",
      "def pickler(name, skills, add):\n",
      "    output = open('pickler_jar', 'w')\n",
      "    pickle.dump(name, output)\n",
      "    pickle.dump(skills, output)\n",
      "    pickle.dump(add, output)\n",
      "    output.close()\n",
      "    \n",
      "def unpickler():\n",
      "    input = open('pickler_jar', 'r')\n",
      "    n = pickle.load(input)\n",
      "    s = pickle.load(input)\n",
      "    a = pickle.load(input)\n",
      "    input.close()\n",
      "    return n, s, a\n",
      "def main():\n",
      "    name = \"zainul\"\n",
      "    skills = ['c', 'python', 'java']\n",
      "    add = {'city' : 'mumbai', 'pin': 400018}\n",
      "    \n",
      "    pickler(name, skills, add)\n",
      "    n, s, a = unpickler()\n",
      "    print n\n",
      "    print s\n",
      "    print a\n",
      "\n",
      "main()\n",
      "    "
     ],
     "language": "python",
     "metadata": {},
     "outputs": [
      {
       "output_type": "stream",
       "stream": "stdout",
       "text": [
        "zainul\n",
        "['c', 'python', 'java']\n",
        "{'city': 'mumbai', 'pin': 400018}\n"
       ]
      }
     ],
     "prompt_number": 59
    },
    {
     "cell_type": "heading",
     "level": 1,
     "metadata": {},
     "source": [
      "<h1>9. Shelves</h1>\n",
      "<p>\n",
      "Shelves let you  store and retreive variables \n",
      "in any order using pickling. \n",
      "</p>\n",
      "\n",
      "<p>\n",
      "    Shelves need a name to get the \n",
      "data. So, it works like a dictionary... \n",
      "    given a name, lookup the data </p>"
     ]
    },
    {
     "cell_type": "code",
     "collapsed": false,
     "input": [
      "import pickle\n",
      "import shelve\n",
      "\n",
      "io = shelve.open('pickle_jar.dat', writeback = True )\n",
      "io['name'] = \"Sayed Zainul Abideen\"\n",
      "io['skills'] = ['C', 'Python', 'Java']\n",
      "io['add'] = {'city' : 'Mumbai', 'pin' : 400018}\n",
      "\n",
      "io.sync()\n",
      "io.close()\n",
      "\n",
      "io = shelve.open('pickle_jar.dat')\n",
      "a = io['add']\n",
      "io.close()\n",
      "\n",
      "print a"
     ],
     "language": "python",
     "metadata": {},
     "outputs": [
      {
       "output_type": "stream",
       "stream": "stdout",
       "text": [
        "{'city': 'Mumbai', 'pin': 400018}\n"
       ]
      }
     ],
     "prompt_number": 62
    },
    {
     "cell_type": "markdown",
     "metadata": {},
     "source": [
      "*  Persistence\n",
      "  ===============\n",
      "+ In computer science, persistence refers to the \n",
      "characteristic of data that outlives the execution \n",
      "of the program that created it. Without this \n",
      "capability, data only exists in memory, and will \n",
      "be lost when the memory loses power, such as \n",
      "on computer shutdown. \u2013 Wikipedia \n",
      "\n",
      "+ So, pickling supports persistence by allowing \n",
      "you to easily write data to a persistent data \n",
      "store (e.g. a file, or database) \n",
      "\n",
      "*   Why is Python so cool?  [JAVA]\n",
      "  ====================\n",
      "  \n",
      "+ object serialization and deserialization \n",
      "\n",
      "+ marshalling and unmarshalling     \n",
      "    "
     ]
    },
    {
     "cell_type": "markdown",
     "metadata": {},
     "source": [
      " 10. Errors and Exceptions\n",
      "===============================\n",
      "\n",
      "+ Errors (It says further execution is not possible):\n",
      "     + Syntax\n",
      "     + Logical\n",
      "+ Exceptions (In response to error):\n",
      "    + Phase 1 Error occurs .\n",
      "    + Phase 2 Error detection and take action.\n",
      "+ previous experience       \"Crash\", \"Tracebacks\""
     ]
    },
    {
     "cell_type": "code",
     "collapsed": false,
     "input": [
      "# ERRORS....\n",
      "#1/0\n",
      "#foo\n",
      "l = []\n",
      "#l[0]\n",
      "d = {'a': 1}\n",
      "#d['n']"
     ],
     "language": "python",
     "metadata": {},
     "outputs": [],
     "prompt_number": 69
    },
    {
     "cell_type": "markdown",
     "metadata": {},
     "source": [
      "### Detecting and Handling Exceptions:\n",
      "  + try-except\n",
      "      ```\n",
      "          try:\n",
      "            try_suite  # watch for exceptions here\n",
      "          except Exception[, reason]:\n",
      "            except_suite # exception-handling code ```\n",
      "      \n",
      "      \n",
      "  + try-finally\n",
      "      ```\n",
      "        try:\n",
      "            try_suite\n",
      "        finally:\n",
      "            finally_suite  # executes regardless\n",
      "      ```\n",
      "  + try-except-finally\n",
      "      ```\n",
      "          try:\n",
      "              A\n",
      "          except MyException:                          \n",
      "              B\n",
      "          else:\n",
      "              C\n",
      "          finally:\n",
      "              D\n",
      "      \n",
      "      ```"
     ]
    },
    {
     "cell_type": "code",
     "collapsed": false,
     "input": [
      "try:\n",
      "    handler = open('blah', 'r')\n",
      "    print \"Ater that freak!\"\n",
      "except IOError, e:\n",
      "    print \"Something bad happend\", e\n",
      "\n",
      "    \n",
      "print \"\\n\\nAfter error occured...!\"\n",
      "print \"I am still continue to execute.\"\n",
      "\n"
     ],
     "language": "python",
     "metadata": {},
     "outputs": [
      {
       "output_type": "stream",
       "stream": "stdout",
       "text": [
        "Something bad happend [Errno 2] No such file or directory: 'blah'\n",
        "\n",
        "\n",
        "After error occured...!\n",
        "I am still continue to execute.\n",
        "1.0\n"
       ]
      }
     ],
     "prompt_number": 116
    },
    {
     "cell_type": "code",
     "collapsed": false,
     "input": [
      "a = 0\n",
      "def safe_float(obj):\n",
      "    try:\n",
      "        a =  float(obj)\n",
      "    except ValueError, e:\n",
      "        print \"Float conversion not possible\"                                    #except (ValueError, TypeError): \n",
      "        return None\n",
      "    except TypeError:\n",
      "        print \"Float conversion not possible the given value\"\n",
      "        return None\n",
      "    except Exception, e :\n",
      "        print \"some thing happend\", e\n",
      "        return None\n",
      "    else:\n",
      "        print \"\\nNo Error occured\"\n",
      "        return a\n",
      "\n",
      "print safe_float(\"1\")     #try with \"sc\", 1, 1.0. '1.5' {'a': 1}"
     ],
     "language": "python",
     "metadata": {},
     "outputs": [
      {
       "output_type": "stream",
       "stream": "stdout",
       "text": [
        "\n",
        "No Error occured\n",
        "1.0\n"
       ]
      }
     ],
     "prompt_number": 132
    },
    {
     "cell_type": "code",
     "collapsed": false,
     "input": [
      "handler = file\n",
      "try:\n",
      "    handler = open('blah', 'r')\n",
      "finally:\n",
      "    print \"I gonna execute anyway\"\n",
      "handler.close()"
     ],
     "language": "python",
     "metadata": {},
     "outputs": [
      {
       "output_type": "stream",
       "stream": "stdout",
       "text": [
        "I gonna execute anyway\n"
       ]
      },
      {
       "ename": "IOError",
       "evalue": "[Errno 2] No such file or directory: 'blah'",
       "output_type": "pyerr",
       "traceback": [
        "\u001b[1;31m---------------------------------------------------------------------------\u001b[0m\n\u001b[1;31mIOError\u001b[0m                                   Traceback (most recent call last)",
        "\u001b[1;32m<ipython-input-142-9de1ac49ab11>\u001b[0m in \u001b[0;36m<module>\u001b[1;34m()\u001b[0m\n\u001b[0;32m      1\u001b[0m \u001b[0mhandler\u001b[0m \u001b[1;33m=\u001b[0m \u001b[0mfile\u001b[0m\u001b[1;33m\u001b[0m\u001b[0m\n\u001b[0;32m      2\u001b[0m \u001b[1;32mtry\u001b[0m\u001b[1;33m:\u001b[0m\u001b[1;33m\u001b[0m\u001b[0m\n\u001b[1;32m----> 3\u001b[1;33m     \u001b[0mhandler\u001b[0m \u001b[1;33m=\u001b[0m \u001b[0mopen\u001b[0m\u001b[1;33m(\u001b[0m\u001b[1;34m'blah'\u001b[0m\u001b[1;33m,\u001b[0m \u001b[1;34m'r'\u001b[0m\u001b[1;33m)\u001b[0m\u001b[1;33m\u001b[0m\u001b[0m\n\u001b[0m\u001b[0;32m      4\u001b[0m \u001b[1;32mfinally\u001b[0m\u001b[1;33m:\u001b[0m\u001b[1;33m\u001b[0m\u001b[0m\n\u001b[0;32m      5\u001b[0m     \u001b[1;32mprint\u001b[0m \u001b[1;34m\"I gonna execute anyway\"\u001b[0m\u001b[1;33m\u001b[0m\u001b[0m\n",
        "\u001b[1;31mIOError\u001b[0m: [Errno 2] No such file or directory: 'blah'"
       ]
      }
     ],
     "prompt_number": 142
    },
    {
     "cell_type": "code",
     "collapsed": false,
     "input": [
      "a = 0\n",
      "def safe_float(obj):\n",
      "    try:\n",
      "        a =  float(obj)\n",
      "    except ValueError, e:\n",
      "        print \"Float conversion not possible\"                                    #except (ValueError, TypeError): \n",
      "        return None\n",
      "    except TypeError:\n",
      "        print \"Float conversion not possible the given value\"\n",
      "        return None\n",
      "    except Exception, e :\n",
      "        print \"some thing happend\", e\n",
      "        return None\n",
      "    else:\n",
      "        print \"\\nNo Error occured\"\n",
      "        return a\n",
      "    finally:\n",
      "        print \"I am gonna execute anyways................................!\"\n",
      "\n",
      "print safe_float({'s':5})     #try with \"sc\", 1, 1.0. '1.5' {'a': 1}"
     ],
     "language": "python",
     "metadata": {},
     "outputs": [
      {
       "output_type": "stream",
       "stream": "stdout",
       "text": [
        "Float conversion not possible the given value\n",
        "I am gonna execute anyways................................!\n",
        "None\n"
       ]
      }
     ],
     "prompt_number": 139
    },
    {
     "cell_type": "markdown",
     "metadata": {},
     "source": [
      "### Context Management (with statement)\n",
      "The below with statement will automatically close the file after the nested block of code. (Continue reading to see exactly how the close occurs.) The advantage of using a with statement is that it is guaranteed to close the file no matter how the nested block exits. If an exception occurs before the end of the block, it will close the file before the exception is caught by an outer exception handler. If the nested block were to contain a return statement, or a continue or break statement, the with statement would automatically close the file in those cases, too.\n",
      "\n"
     ]
    },
    {
     "cell_type": "code",
     "collapsed": false,
     "input": [
      "with open('read.txt', 'r') as f:\n",
      "    for i in f:\n",
      "        print i\n",
      "    "
     ],
     "language": "python",
     "metadata": {},
     "outputs": [
      {
       "output_type": "stream",
       "stream": "stdout",
       "text": [
        "We call ourselves _Homo sapiens\u2014man the wise\u2014because our intelligence is so important\n",
        "\n",
        "to us. For thousands of years, we have tried to understand how we think; that is, how a mere\n",
        "\n",
        "handful of matter can perceive, understand, predict, and manipulate a world far larger and\n",
        "\n",
        "more complicated than itself. The field of artificial intelligence, or Al, goes further still: it\n",
        "\n",
        "attempts not just to understand but also to build intelligent entities.\n",
        "\n",
        "AI is one of the newest fields in science and engineering. Work started in earnest soon\n",
        "\n",
        "after World War II, and the name itself was coined in 1956. Along with molecular biology,\n",
        "\n",
        "AI is regularly cited as the \"field I would most like to be in\" by scientists in other disciplines.\n",
        "\n",
        "A student in physics might reasonably feel that all the good ideas have already been taken by\n",
        "\n",
        "Galileo, Newton, Einstein, and the rest. AI, on the other hand, still has openings for several\n",
        "\n",
        "full-time Einsteins and Edisons.\n",
        "\n",
        "Al currently encompasses a huge variety of subfields, ranging from the general (learning\n",
        "\n",
        "and perception) to the specific, such as playing chess, proving mathematical theorems, writing\n",
        "\n",
        "poetry, driving a car on a crowded street, and diagnosing diseases. AI is relevant to any\n",
        "\n",
        "intellectual task; it is truly a universal field.\n",
        "\n"
       ]
      }
     ],
     "prompt_number": 146
    },
    {
     "cell_type": "code",
     "collapsed": false,
     "input": [
      "import httplib\n",
      "\n",
      "import time\n",
      "\n",
      "class Timer:    \n",
      "    def __enter__(self):\n",
      "        self.start = time.clock()\n",
      "        return self\n",
      "\n",
      "    def __exit__(self, *args):\n",
      "        self.end = time.clock()\n",
      "        self.interval = self.end - self.start\n",
      "        \n",
      "        \n",
      "with Timer() as t:\n",
      "    conn = httplib.HTTPConnection('google.com')\n",
      "    conn.request('GET', '/')\n",
      "\n",
      "print('Request took %.03f sec.' % t.interval)"
     ],
     "language": "python",
     "metadata": {},
     "outputs": [
      {
       "output_type": "stream",
       "stream": "stdout",
       "text": [
        "Request took 0.002 sec.\n"
       ]
      }
     ],
     "prompt_number": 177
    },
    {
     "cell_type": "markdown",
     "metadata": {},
     "source": [
      "### Buliding your own exception and Raising it.  \n"
     ]
    },
    {
     "cell_type": "code",
     "collapsed": false,
     "input": [
      "class MyError(RuntimeError):\n",
      "   def __init__(self, arg):\n",
      "      self.args = arg\n",
      "try:\n",
      "    raise MyError(\"Something bad happend\")\n",
      "except MyError,e:\n",
      "   print e\n",
      "    \n",
      "\n",
      "assert 1==1, \"One equals one\"\n",
      "try:\n",
      "    assert 1==0, \"One not equals one\"\n",
      "except Exception, e :\n",
      "    print \"[Something just broke]\",e\n",
      "    "
     ],
     "language": "python",
     "metadata": {},
     "outputs": [
      {
       "output_type": "stream",
       "stream": "stdout",
       "text": [
        "('S', 'o', 'm', 'e', 't', 'h', 'i', 'n', 'g', ' ', 'b', 'a', 'd', ' ', 'h', 'a', 'p', 'p', 'e', 'n', 'd')\n",
        "[Something just broke] One not equals one\n"
       ]
      }
     ],
     "prompt_number": 194
    },
    {
     "cell_type": "markdown",
     "metadata": {},
     "source": [
      "##11. Functions and Functional Programming\n"
     ]
    }
   ],
   "metadata": {}
  }
 ]
}