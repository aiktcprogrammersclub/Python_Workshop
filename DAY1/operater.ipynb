{
 "metadata": {
  "name": "",
  "signature": "sha256:4bcebe4ab8fe2d11ba3b46fcbad62cab9435bf3193c06a32d364bff3792ede10"
 },
 "nbformat": 3,
 "nbformat_minor": 0,
 "worksheets": [
  {
   "cells": [
    {
     "cell_type": "markdown",
     "metadata": {},
     "source": [
      "<h2>Operators</h2>\n",
      "    <h3>1. Assignment Operators</h3>\n",
      "    <h3>2. Comparison Operators</h3>\n",
      "    <h3>3. Arithmetic Operators</h3>\n",
      "    <h3>4. Compound Assignment Operators</h3>\n",
      "    <h3>5. Logical Operators</h3>\n",
      "    <h3>6. Membership Operators</h3>"
     ]
    },
    {
     "cell_type": "heading",
     "level": 2,
     "metadata": {},
     "source": [
      "1. Assignment Operators"
     ]
    },
    {
     "cell_type": "code",
     "collapsed": false,
     "input": [
      "a=b=c=256\n",
      "print a\n",
      "print b\n",
      "print c"
     ],
     "language": "python",
     "metadata": {},
     "outputs": [
      {
       "output_type": "stream",
       "stream": "stdout",
       "text": [
        "256\n",
        "256\n",
        "256\n"
       ]
      }
     ],
     "prompt_number": 13
    },
    {
     "cell_type": "code",
     "collapsed": false,
     "input": [
      "a,b,c=25,25.1,\"hello\"\n",
      "print a\n",
      "print b\n",
      "print c"
     ],
     "language": "python",
     "metadata": {},
     "outputs": [
      {
       "output_type": "stream",
       "stream": "stdout",
       "text": [
        "25\n",
        "25.1\n",
        "hello\n"
       ]
      }
     ],
     "prompt_number": 16
    },
    {
     "cell_type": "code",
     "collapsed": false,
     "input": [
      "a,b,c=(35\n",
      "       ,68,\"ffad\")\n",
      "print a\n",
      "print b\n",
      "print c\n",
      "\n",
      "del a,b,c\n",
      "print a"
     ],
     "language": "python",
     "metadata": {},
     "outputs": [
      {
       "output_type": "stream",
       "stream": "stdout",
       "text": [
        "35\n",
        "68\n",
        "ffad\n"
       ]
      },
      {
       "ename": "NameError",
       "evalue": "name 'a' is not defined",
       "output_type": "pyerr",
       "traceback": [
        "\u001b[1;31m---------------------------------------------------------------------------\u001b[0m\n\u001b[1;31mNameError\u001b[0m                                 Traceback (most recent call last)",
        "\u001b[1;32m<ipython-input-1-e45c2a1a8b76>\u001b[0m in \u001b[0;36m<module>\u001b[1;34m()\u001b[0m\n\u001b[0;32m      6\u001b[0m \u001b[1;33m\u001b[0m\u001b[0m\n\u001b[0;32m      7\u001b[0m \u001b[1;32mdel\u001b[0m \u001b[0ma\u001b[0m\u001b[1;33m,\u001b[0m\u001b[0mb\u001b[0m\u001b[1;33m,\u001b[0m\u001b[0mc\u001b[0m\u001b[1;33m\u001b[0m\u001b[0m\n\u001b[1;32m----> 8\u001b[1;33m \u001b[1;32mprint\u001b[0m \u001b[0ma\u001b[0m\u001b[1;33m\u001b[0m\u001b[0m\n\u001b[0m",
        "\u001b[1;31mNameError\u001b[0m: name 'a' is not defined"
       ]
      }
     ],
     "prompt_number": 1
    },
    {
     "cell_type": "code",
     "collapsed": false,
     "input": [
      "#swapping of two no\n",
      "a=10\n",
      "b=20\n",
      "print \"Before swaping\"\n",
      "print a\n",
      "print b\n",
      "\n",
      "a,b=b,a\n",
      "print \"\\nAfter swaping\"\n",
      "print a\n",
      "print b"
     ],
     "language": "python",
     "metadata": {},
     "outputs": [
      {
       "output_type": "stream",
       "stream": "stdout",
       "text": [
        "Before swaping\n",
        "10\n",
        "20\n",
        "\n",
        "After swaping\n",
        "20\n",
        "10\n"
       ]
      }
     ],
     "prompt_number": 23
    },
    {
     "cell_type": "heading",
     "level": 2,
     "metadata": {},
     "source": [
      "2. Comparison Operators"
     ]
    },
    {
     "cell_type": "code",
     "collapsed": false,
     "input": [
      "print \"2 < 4 : \",\n",
      "print 2 < 4\n",
      "\n",
      "print \"2 > 4 : \",\n",
      "print 2 > 4\n",
      "\n",
      "print \"2 == 4 : \",\n",
      "print 2 == 4\n",
      "\n",
      "print \"2 != 4 : \",\n",
      "print 2 != 4\n",
      "\n",
      "print \"2 <> 4 : \",\n",
      "print 2 <> 4\n",
      "\n",
      "print \"2.2 >= 2 : \",\n",
      "print 2 >= 4\n",
      "\n",
      "print \"2.25 <= 4.256 : \",\n",
      "print 2 != 4\n",
      "\n",
      "print 3 < 4 < 5           #3 < 4 and 4 < 5 "
     ],
     "language": "python",
     "metadata": {},
     "outputs": [
      {
       "output_type": "stream",
       "stream": "stdout",
       "text": [
        "2 < 4 :  True\n",
        "2 > 4 :  False\n",
        "2 == 4 :  False\n",
        "2 != 4 :  True\n",
        "2 <> 4 :  True\n",
        "2.2 >= 2 :  False\n",
        "2.25 <= 4.256 :  True\n",
        "True\n"
       ]
      }
     ],
     "prompt_number": 2
    },
    {
     "cell_type": "heading",
     "level": 2,
     "metadata": {},
     "source": [
      "3. Arithmetic Operators"
     ]
    },
    {
     "cell_type": "code",
     "collapsed": false,
     "input": [
      "print \"2 + 4 : \",\n",
      "print 2 + 4\n",
      "\n",
      "print \"2 - 4 : \",\n",
      "print 2 - 4\n",
      "\n",
      "print \"4 / 2 : \",\n",
      "print 4 / 2\n",
      "\n",
      "print \"4 // 2 : \",\n",
      "print 4// 2\n",
      "\n",
      "print \"2 * 4 : \",\n",
      "print 2 * 4\n",
      "\n",
      "print \"2 ** 4 : \",\n",
      "print 2 ** 4\n",
      "\n",
      "print \"4 % 3 : \",\n",
      "print 4 % 3\n"
     ],
     "language": "python",
     "metadata": {},
     "outputs": [
      {
       "output_type": "stream",
       "stream": "stdout",
       "text": [
        "2 + 4 :  6\n",
        "2 - 4 :  -2\n",
        "4 / 2 :  2\n",
        "4 // 2 :  2\n",
        "2 * 4 :  8\n",
        "2 ** 4 :  16\n",
        "4 % 3 :  1\n"
       ]
      }
     ],
     "prompt_number": 35
    },
    {
     "cell_type": "heading",
     "level": 2,
     "metadata": {},
     "source": [
      "4.Compound Assignment operator"
     ]
    },
    {
     "cell_type": "code",
     "collapsed": false,
     "input": [
      "a=10\n",
      "b=20\n",
      "\n",
      "a+=b\n",
      "print a"
     ],
     "language": "python",
     "metadata": {},
     "outputs": [
      {
       "output_type": "stream",
       "stream": "stdout",
       "text": [
        "30\n"
       ]
      }
     ],
     "prompt_number": 40
    },
    {
     "cell_type": "heading",
     "level": 2,
     "metadata": {},
     "source": [
      "5.Logical Operators"
     ]
    },
    {
     "cell_type": "code",
     "collapsed": false,
     "input": [
      "print \"True and True : \" ,\n",
      "print True and True\n",
      "\n",
      "print \"True and False : \" ,\n",
      "print True and False\n",
      "\n",
      "print \"False and False : \" ,\n",
      "print False and False\n",
      "\n",
      "print \"\\n\"\n",
      "\n",
      "print \"True or True : \" ,\n",
      "print True and True\n",
      "\n",
      "print \"True or False : \" ,\n",
      "print True and False\n",
      "\n",
      "print \"False or False : \" ,\n",
      "print False and False\n",
      "\n",
      "print \"\\n\"\n",
      "\n",
      "print \"not(True) : \" ,\n",
      "print not(True)\n",
      "\n",
      "print \"not(False) : \" ,\n",
      "print not(False)\n"
     ],
     "language": "python",
     "metadata": {},
     "outputs": [
      {
       "output_type": "stream",
       "stream": "stdout",
       "text": [
        "True and True :  True\n",
        "True and False :  False\n",
        "False and False :  False\n",
        "\n",
        "\n",
        "True or True :  True\n",
        "True or False :  False\n",
        "False or False :  False\n",
        "\n",
        "\n",
        "not(True) :  False\n",
        "not(False) :  True\n"
       ]
      }
     ],
     "prompt_number": 13
    },
    {
     "cell_type": "heading",
     "level": 2,
     "metadata": {},
     "source": [
      "6. Membership Operators"
     ]
    },
    {
     "cell_type": "code",
     "collapsed": false,
     "input": [
      "print (True in ['a',2,3,4,2.325,True])\n",
      "print (1 not in [1,2,3,4,2.325])"
     ],
     "language": "python",
     "metadata": {},
     "outputs": [
      {
       "output_type": "stream",
       "stream": "stdout",
       "text": [
        "True\n",
        "False\n"
       ]
      }
     ],
     "prompt_number": 27
    },
    {
     "cell_type": "code",
     "collapsed": false,
     "input": [],
     "language": "python",
     "metadata": {},
     "outputs": []
    }
   ],
   "metadata": {}
  }
 ]
}