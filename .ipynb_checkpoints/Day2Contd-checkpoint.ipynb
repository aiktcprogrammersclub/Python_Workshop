{
 "metadata": {
  "name": "",
  "signature": "sha256:fc45b3301d785c037a4001b5e67ab485df6a56f74900c0cb565562b506abc7c4"
 },
 "nbformat": 3,
 "nbformat_minor": 0,
 "worksheets": []
}