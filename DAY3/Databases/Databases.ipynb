{
 "metadata": {
  "name": "",
  "signature": "sha256:016ee21ef0ab7e886b644b69dd70b4b15e38b0e3afeb1d45ad43a667a94bdd8d"
 },
 "nbformat": 3,
 "nbformat_minor": 0,
 "worksheets": [
  {
   "cells": [
    {
     "cell_type": "markdown",
     "metadata": {},
     "source": [
      "#Databases-MYSQL\n",
      "   ## MySQLdb OR MysqlConnector\n",
      "   +  MySQLdb is an interface for connecting to a MySQL database server from Python. It implements the Python\n",
      "Database API v2.0 and is built on top of the MySQL C API.  "
     ]
    },
    {
     "cell_type": "code",
     "collapsed": false,
     "input": [
      "import mysql.connector\n",
      "\n",
      "\n",
      "\n"
     ],
     "language": "python",
     "metadata": {},
     "outputs": [],
     "prompt_number": 4
    }
   ],
   "metadata": {}
  }
 ]
}