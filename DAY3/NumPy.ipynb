{
 "metadata": {
  "name": "",
  "signature": "sha256:d80216135eef227655e3a717e56ba852e05676a33d62776269134b3a94431d81"
 },
 "nbformat": 3,
 "nbformat_minor": 0,
 "worksheets": [
  {
   "cells": [
    {
     "cell_type": "code",
     "collapsed": false,
     "input": [
      "from pylab import *\n"
     ],
     "language": "python",
     "metadata": {},
     "outputs": [],
     "prompt_number": 62
    },
    {
     "cell_type": "code",
     "collapsed": false,
     "input": [
      "x = array([1 , 2, 3]) \n",
      "print x, type(x)"
     ],
     "language": "python",
     "metadata": {},
     "outputs": [
      {
       "output_type": "stream",
       "stream": "stdout",
       "text": [
        "[1 2 3] <type 'numpy.ndarray'>\n"
       ]
      }
     ],
     "prompt_number": 5
    },
    {
     "cell_type": "code",
     "collapsed": false,
     "input": [
      "a = [[1, 2], [3, 4]]             #REGULAR PYTHON LIST\n",
      "x = array(a)                    # CONV TO NUMPY ARRAY\n",
      "\n",
      "print x\n"
     ],
     "language": "python",
     "metadata": {},
     "outputs": [
      {
       "output_type": "stream",
       "stream": "stdout",
       "text": [
        "[[1 2]\n",
        " [3 4]]\n"
       ]
      }
     ],
     "prompt_number": 9
    },
    {
     "cell_type": "markdown",
     "metadata": {},
     "source": [
      "#Arrange"
     ]
    },
    {
     "cell_type": "code",
     "collapsed": false,
     "input": [
      "\n",
      "arange(1, 2, 0.1)"
     ],
     "language": "python",
     "metadata": {},
     "outputs": [
      {
       "metadata": {},
       "output_type": "pyout",
       "prompt_number": 27,
       "text": [
        "array([ 1. ,  1.1,  1.2,  1.3,  1.4,  1.5,  1.6,  1.7,  1.8,  1.9])"
       ]
      }
     ],
     "prompt_number": 27
    },
    {
     "cell_type": "markdown",
     "metadata": {},
     "source": [
      "# linspace(a, b, c):\n",
      "   + similar to arrange but it divides a ans b in c  parts i:e ({i+1} -  {i} = constant)"
     ]
    },
    {
     "cell_type": "code",
     "collapsed": false,
     "input": [
      "a = linspace(1, 10, 5)\n",
      "print a"
     ],
     "language": "python",
     "metadata": {},
     "outputs": [
      {
       "output_type": "stream",
       "stream": "stdout",
       "text": [
        "[  1.     3.25   5.5    7.75  10.  ]\n"
       ]
      }
     ],
     "prompt_number": 32
    },
    {
     "cell_type": "markdown",
     "metadata": {},
     "source": [
      "#Zeros\n",
      "#Onces\n"
     ]
    },
    {
     "cell_type": "code",
     "collapsed": false,
     "input": [
      "print \"Zeros\"\n",
      "print zeros([3,2], float )\n",
      "print \"Onces\"\n",
      "print ones([3, 2], float)"
     ],
     "language": "python",
     "metadata": {},
     "outputs": [
      {
       "output_type": "stream",
       "stream": "stdout",
       "text": [
        "Zeros\n",
        "[[ 0.  0.]\n",
        " [ 0.  0.]\n",
        " [ 0.  0.]]\n",
        "Onces\n",
        "[[ 1.  1.]\n",
        " [ 1.  1.]\n",
        " [ 1.  1.]]\n"
       ]
      }
     ],
     "prompt_number": 38
    },
    {
     "cell_type": "markdown",
     "metadata": {},
     "source": [
      "#Ramdom Matrix"
     ]
    },
    {
     "cell_type": "code",
     "collapsed": false,
     "input": [
      "random([3, 3])"
     ],
     "language": "python",
     "metadata": {},
     "outputs": [
      {
       "metadata": {},
       "output_type": "pyout",
       "prompt_number": 40,
       "text": [
        "array([[ 0.87058498,  0.29960408,  0.49742607],\n",
        "       [ 0.75153787,  0.53898107,  0.90406995],\n",
        "       [ 0.8466906 ,  0.31864798,  0.7611872 ]])"
       ]
      }
     ],
     "prompt_number": 40
    },
    {
     "cell_type": "markdown",
     "metadata": {},
     "source": [
      "#Reshape Matrix"
     ]
    },
    {
     "cell_type": "code",
     "collapsed": false,
     "input": [
      "a = arange(20)\n",
      "print a\n",
      "\n",
      "b = reshape(a, [5, 4])\n",
      "print b\n"
     ],
     "language": "python",
     "metadata": {},
     "outputs": [
      {
       "output_type": "stream",
       "stream": "stdout",
       "text": [
        "[ 0  1  2  3  4  5  6  7  8  9 10 11 12 13 14 15 16 17 18 19]\n",
        "[[ 0  1  2  3]\n",
        " [ 4  5  6  7]\n",
        " [ 8  9 10 11]\n",
        " [12 13 14 15]\n",
        " [16 17 18 19]]\n"
       ]
      }
     ],
     "prompt_number": 53
    },
    {
     "cell_type": "code",
     "collapsed": false,
     "input": [],
     "language": "python",
     "metadata": {},
     "outputs": []
    },
    {
     "cell_type": "markdown",
     "metadata": {},
     "source": [
      "#Copying\n"
     ]
    },
    {
     "cell_type": "code",
     "collapsed": false,
     "input": [
      "a = zeros(5)\n",
      "b = a\n",
      "print id(a), id(b)\n",
      "c = a.copy()\n",
      "id(c)"
     ],
     "language": "python",
     "metadata": {},
     "outputs": [
      {
       "output_type": "stream",
       "stream": "stdout",
       "text": [
        "48622480 48622480\n"
       ]
      },
      {
       "metadata": {},
       "output_type": "pyout",
       "prompt_number": 59,
       "text": [
        "49595728"
       ]
      }
     ],
     "prompt_number": 59
    },
    {
     "cell_type": "markdown",
     "metadata": {},
     "source": [
      "#Arithmetic operations\n",
      "   + Arithmetic operations performed on an array is carried out on all individual elements. Adding or\n",
      "    multiplying an array object with a number will multiply all the elements by that number. However,\n",
      "    adding or multiplying two arrays having identical shapes will result in performing that operation\n",
      "    with the corresponding elements. To clarify the idea, have a look"
     ]
    },
    {
     "cell_type": "code",
     "collapsed": false,
     "input": [
      "\n",
      "a = array([[1, 2], [3, 4]])\n",
      "b = array([[5, 6], [7, 8]])\n",
      "\n",
      "print a\n",
      "print \" \"\n",
      "print b\n",
      "print \" \"\n",
      "print a + b\n",
      "print \" \"\n",
      "print a*b"
     ],
     "language": "python",
     "metadata": {},
     "outputs": [
      {
       "output_type": "stream",
       "stream": "stdout",
       "text": [
        "[[1 2]\n",
        " [3 4]]\n",
        " \n",
        "[[5 6]\n",
        " [7 8]]\n",
        " \n",
        "[[ 6  8]\n",
        " [10 12]]\n",
        " \n",
        "[[ 5 12]\n",
        " [21 32]]\n"
       ]
      }
     ],
     "prompt_number": 71
    },
    {
     "cell_type": "markdown",
     "metadata": {},
     "source": [
      "##Cross product\n",
      "<img src= \"cross.gif\" />\n",
      "## Dot product\n",
      "\n",
      "<img src=\"dot.png\" />"
     ]
    },
    {
     "cell_type": "code",
     "collapsed": false,
     "input": [
      "a = array([1, 2, 3])\n",
      "b = array([4, 5, 6])\n",
      "\n",
      "c = cross(a, b)\n",
      "print c\n",
      "\n",
      "c = dot(a, b)\n",
      "print c"
     ],
     "language": "python",
     "metadata": {},
     "outputs": [
      {
       "output_type": "stream",
       "stream": "stdout",
       "text": [
        "[-3  6 -3]\n",
        "32\n"
       ]
      }
     ],
     "prompt_number": 74
    },
    {
     "cell_type": "markdown",
     "metadata": {},
     "source": [
      "#Saving and restoring "
     ]
    },
    {
     "cell_type": "code",
     "collapsed": false,
     "input": [
      "a = arange(10)\n",
      "print a\n",
      "\n",
      "a.tofile('myPyFile.dat')\n",
      "b = fromfile('myPyFile.dat', int)\n",
      "print b"
     ],
     "language": "python",
     "metadata": {},
     "outputs": [
      {
       "output_type": "stream",
       "stream": "stdout",
       "text": [
        "[0 1 2 3 4 5 6 7 8 9]\n",
        "[0 1 2 3 4 5 6 7 8 9]\n"
       ]
      }
     ],
     "prompt_number": 79
    },
    {
     "cell_type": "markdown",
     "metadata": {},
     "source": [
      "#Matrix Inversion"
     ]
    },
    {
     "cell_type": "code",
     "collapsed": false,
     "input": [
      "a = array([ [4, 1, -2], [2, -3, 3], [-6, -2, 1] ], float) \n",
      "b = array([ [1, 3, 2], [-1, 0, 2], [3, 1, -1] ], float)\n",
      "c = array([[4, 7], [2, 6]], float)\n",
      "\n",
      "b_inv = linalg.inv(b)\n",
      "a_inv = linalg.inv(a)\n",
      "c_inv = linalg.inv(c) \n",
      "print a_inv\n",
      "print b_inv\n",
      "\n",
      "print  \"\"\n",
      "\n",
      "print c\n",
      "print c_inv\n",
      "\n",
      "print dot(c, c_inv)"
     ],
     "language": "python",
     "metadata": {},
     "outputs": [
      {
       "output_type": "stream",
       "stream": "stdout",
       "text": [
        "[[ 0.08333333  0.08333333 -0.08333333]\n",
        " [-0.55555556 -0.22222222 -0.44444444]\n",
        " [-0.61111111  0.05555556 -0.38888889]]\n",
        "[[-0.18181818  0.45454545  0.54545455]\n",
        " [ 0.45454545 -0.63636364 -0.36363636]\n",
        " [-0.09090909  0.72727273  0.27272727]]\n",
        "\n",
        "[[ 4.  7.]\n",
        " [ 2.  6.]]\n",
        "[[ 0.6 -0.7]\n",
        " [-0.2  0.4]]\n",
        "[[ 1.  0.]\n",
        " [ 0.  1.]]\n"
       ]
      }
     ],
     "prompt_number": 99
    },
    {
     "cell_type": "markdown",
     "metadata": {},
     "source": [
      "##Vectorized Function\n"
     ]
    },
    {
     "cell_type": "code",
     "collapsed": false,
     "input": [
      "a = array([1, 10, 90, 100, 1000])\n",
      "\n",
      "print log10(a)\n",
      "print sin(a)\n",
      "\n",
      "def spf(x):\n",
      "    return 3*x\n",
      "\n",
      "vspf = vectorize(spf)\n",
      "a= array([1, 2, 3, 4])\n",
      "print vspf(a)"
     ],
     "language": "python",
     "metadata": {},
     "outputs": [
      {
       "output_type": "stream",
       "stream": "stdout",
       "text": [
        "[ 0.          1.          1.95424251  2.          3.        ]\n",
        "[ 0.84147098 -0.54402111  0.89399666 -0.50636564  0.82687954]\n",
        "[ 3  6  9 12]\n"
       ]
      }
     ],
     "prompt_number": 96
    },
    {
     "cell_type": "markdown",
     "metadata": {},
     "source": []
    }
   ],
   "metadata": {}
  }
 ]
}