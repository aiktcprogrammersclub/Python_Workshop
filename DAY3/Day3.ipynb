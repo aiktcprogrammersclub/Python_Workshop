{
 "metadata": {
  "name": "",
  "signature": "sha256:43a764e5a8841b92370cb92eef7ba628a8d1c7f2b2ab0d139e4e64a3370dcb29"
 },
 "nbformat": 3,
 "nbformat_minor": 0,
 "worksheets": [
  {
   "cells": [
    {
     "cell_type": "markdown",
     "metadata": {},
     "source": [
      "# Modules\n",
      "\n",
      "##1. What Are Modules?\n",
      "\n",
      "   + A module allows you to logically organize your Python code. When code gets to be large enough, the tendency is to break it up into organized pieces that can still interact with one another at a functioning level. These pieces generally have attributes that have some relation to one another, perhaps a single class with its member data variables and methods, or maybe a group of related, yet independently operating functions. These pieces should be shared, so Python allows a module the ability to \"bring in\" and use attributes from other modules to take advantage of work that has been done, maximizing code reusability. This process of associating attributes from other modules with your module is called importing. In a nutshell, modules are self-contained and organized pieces of Python code that can be shared.   \n",
      "   \n",
      "##2. Modules and Files\n",
      "\n",
      "   + If modules represent a logical way to organize your Python code, then files are a way to physically\n",
      "    organize modules. To that end, each file is considered an individual module, and vice versa. The\n",
      "    filename of a module is the module name appended with the .py file extension. There are several\n",
      "    aspects we need to discuss with regard to what the file structure means to modules. Unlike other\n",
      "    languages in which you import classes, in Python you import modules or module attributes.\n",
      "    \n",
      "##3. Search Path and Path Search\n",
      "    \n",
      "    `sys.path`\n",
      "   \n",
      "    `sys.path.append('/home/wesc/py/lib')`\n",
      "    \n",
      "##4. Namespaces\n",
      "\n",
      "   + Builtins {Loaded first}\n",
      "   + Global   {Loaded when execution begins}\n",
      "   + Local    {come and goes as per the stacks}\n",
      "   \n",
      "##5. Namespace for free\n",
      "   \n",
      "   "
     ]
    },
    {
     "cell_type": "code",
     "collapsed": false,
     "input": [
      "def foo():\n",
      "    pass\n",
      "\n",
      "foo.__doc__ = 'Added docs later'\n",
      "foo.version  = 1.0\n",
      "\n",
      "\n",
      "class MyUltimatePythonStorage(object):\n",
      "    pass\n",
      "\n",
      "bag = MyUltimatePythonStorage()\n",
      "bag.x = 100\n",
      "bag.y = 200\n",
      "bag.version = 1.0"
     ],
     "language": "python",
     "metadata": {},
     "outputs": [],
     "prompt_number": 3
    },
    {
     "cell_type": "markdown",
     "metadata": {},
     "source": [
      "## Importing Modules\n",
      "\n",
      "  + import moduleName\n",
      "  + from moduleName import something\n",
      "  + import moduleName as aliasName\n",
      "\n",
      "## Adding to the current Namespace.\n",
      "\n",
      "  "
     ]
    },
    {
     "cell_type": "code",
     "collapsed": false,
     "input": [
      "#############\n",
      "# imptee.py #\n",
      "#############\n",
      "foo = 'abc'\n",
      "def show():\n",
      "    print 'foo from imptee:', foo\n",
      "\n",
      "\n",
      "#############\n",
      "# impter.py #\n",
      "#############\n",
      "from imptee import foo, show\n",
      "show()\n",
      "foo = 123\n",
      "print 'foo from impter:', foo\n",
      "show()\n",
      "\n",
      "\n",
      "OR\n",
      "#############\n",
      "# impter.py #\n",
      "#############\n",
      "import imptee\n",
      "imptee.show()\n",
      "imptee.foo = 123\n",
      "print 'foo from impter:', imptee.foo\n",
      "imptee.show()"
     ],
     "language": "python",
     "metadata": {},
     "outputs": [
      {
       "ename": "IndentationError",
       "evalue": "expected an indented block (<ipython-input-4-c39763462704>, line 6)",
       "output_type": "pyerr",
       "traceback": [
        "\u001b[1;36m  File \u001b[1;32m\"<ipython-input-4-c39763462704>\"\u001b[1;36m, line \u001b[1;32m6\u001b[0m\n\u001b[1;33m    print 'foo from imptee:', foo\u001b[0m\n\u001b[1;37m        ^\u001b[0m\n\u001b[1;31mIndentationError\u001b[0m\u001b[1;31m:\u001b[0m expected an indented block\n"
       ]
      }
     ],
     "prompt_number": 4
    },
    {
     "cell_type": "code",
     "collapsed": false,
     "input": [
      "#globals() and locals()\n",
      "\n",
      "def foo():\n",
      "    print '\\nCalling foo()...'\n",
      "    aString = 'bar'\n",
      "    anInt = 42\n",
      "    print \"foo()'s globals:\", globals().keys(), \"\\n\"\n",
      "    print  '-'*100\n",
      "    print \"foo()'s locals:\", locals().keys()\n",
      "    \n",
      "foo()\n",
      "print  '-'*100\n",
      "print \"__main__'s globals:\", globals().keys()\n",
      "print  '-'*100\n",
      "print \"__main__'s locals:\", locals().keys()"
     ],
     "language": "python",
     "metadata": {},
     "outputs": [
      {
       "output_type": "stream",
       "stream": "stdout",
       "text": [
        "\n",
        "Calling foo()...\n",
        "foo()'s globals: ['_dh', '__', '_i', 'quit', '__builtins__', '_ih', '__builtin__', 'MyUltimatePythonStorage', '__name__', '___', '_', '_sh', '_i12', '_i11', '_i9', '_i8', '_i7', '_i6', '_i5', '_i4', '_i3', '_i2', '_i1', '__doc__', '_i13', 'bag', '_iii', '_i10', 'exit', 'get_ipython', '_ii', 'In', 'foo', '_oh', 'Out'] \n",
        "\n",
        "----------------------------------------------------------------------------------------------------\n",
        "foo()'s locals: ['anInt', 'aString']\n",
        "----------------------------------------------------------------------------------------------------\n",
        "__main__'s globals: ['_dh', '__', '_i', 'quit', '__builtins__', '_ih', '__builtin__', 'MyUltimatePythonStorage', '__name__', '___', '_', '_sh', '_i12', '_i11', '_i9', '_i8', '_i7', '_i6', '_i5', '_i4', '_i3', '_i2', '_i1', '__doc__', '_i13', 'bag', '_iii', '_i10', 'exit', 'get_ipython', '_ii', 'In', 'foo', '_oh', 'Out']\n",
        "----------------------------------------------------------------------------------------------------\n",
        "__main__'s locals: ['_dh', '__', '_i', 'quit', '__builtins__', '_ih', '__builtin__', 'MyUltimatePythonStorage', '__name__', '___', '_', '_sh', '_i12', '_i11', '_i9', '_i8', '_i7', '_i6', '_i5', '_i4', '_i3', '_i2', '_i1', '__doc__', '_i13', 'bag', '_iii', '_i10', 'exit', 'get_ipython', '_ii', 'In', 'foo', '_oh', 'Out']\n"
       ]
      }
     ],
     "prompt_number": 13
    },
    {
     "cell_type": "markdown",
     "metadata": {},
     "source": [
      "# Packages.\n",
      "\n",
      "  + A package is a hierarchical file directory structure that defines a single Python application environment\n",
      "    that consists of modules and subpackages.\n",
      "    \n",
      "# Directory Structure\n",
      "\n",
      "   `\n",
      "    Phone/\n",
      "    __init__.py\n",
      "    common_util.py\n",
      "    Voicedata/\n",
      "        __init__.py\n",
      "        Pots.py\n",
      "        Isdn.py\n",
      "    Fax/\n",
      "        __init__.py\n",
      "        G3.py\n",
      "    Mobile/\n",
      "        __init__.py\n",
      "        Analog.py\n",
      "        Digital.py\n",
      "    Pager/\n",
      "        __init__.py\n",
      "        Numeric.py\n",
      "  `\n",
      "Phone is a top-level package and Voicedata , etc., are subpackages. Import subpackages by using import like this:  \n",
      "=============================\n",
      "### In our above directory structure hierarchy, we observe a number of __init__.py files. These are initializer modules that are required when using from-import to import subpackages but they can be empty if not used. Quite often, developers forget to add _inti_.py files to their package directories, so starting in Python 2.5, this triggers an ImportWarning message.\n",
      "\n",
      "      `\n",
      "      import Phone.Mobile.Analog\n",
      "    \n",
      "      Phone.Mobile.Analog.dial()\n",
      "\n",
      "  `"
     ]
    },
    {
     "cell_type": "code",
     "collapsed": false,
     "input": [],
     "language": "python",
     "metadata": {},
     "outputs": []
    }
   ],
   "metadata": {}
  }
 ]
}