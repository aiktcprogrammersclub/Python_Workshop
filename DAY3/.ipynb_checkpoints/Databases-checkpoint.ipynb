{
 "metadata": {
  "name": "",
  "signature": "sha256:4799c586bb70a24110a5c9e44683ccfa7847f14a92ce247765e386bf4b039de0"
 },
 "nbformat": 3,
 "nbformat_minor": 0,
 "worksheets": [
  {
   "cells": [
    {
     "cell_type": "code",
     "collapsed": false,
     "input": [],
     "language": "python",
     "metadata": {},
     "outputs": []
    }
   ],
   "metadata": {}
  }
 ]
}