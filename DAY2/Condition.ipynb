{
 "metadata": {
  "name": "",
  "signature": "sha256:c05d880125dd74b2bebb4a760cfbc5a506be43a3e620ed6f8233eb52e9d08304"
 },
 "nbformat": 3,
 "nbformat_minor": 0,
 "worksheets": [
  {
   "cells": [
    {
     "cell_type": "heading",
     "level": 3,
     "metadata": {},
     "source": [
      "conditional Statments <br>\n",
      "1 ) what is suit ? <br>\n",
      "2 ) if Statement <br>\n",
      "3 ) if else Statement <br>\n",
      "4 ) if elif else Statement<br>\n",
      "5 ) Nested if elif else"
     ]
    },
    {
     "cell_type": "heading",
     "level": 3,
     "metadata": {},
     "source": [
      "1 ) If Statement : "
     ]
    },
    {
     "cell_type": "code",
     "collapsed": false,
     "input": [
      "a= raw_input(\"Enter Number less than 10 :\")\n",
      "a=int(a)\n",
      "if a<10 :\n",
      "    print \"Number is %d\" % a"
     ],
     "language": "python",
     "metadata": {},
     "outputs": [
      {
       "name": "stdout",
       "output_type": "stream",
       "stream": "stdout",
       "text": [
        "Enter Number less than 10 :9\n"
       ]
      },
      {
       "output_type": "stream",
       "stream": "stdout",
       "text": [
        "Number is 9\n"
       ]
      }
     ],
     "prompt_number": 8
    },
    {
     "cell_type": "heading",
     "level": 3,
     "metadata": {},
     "source": [
      "2 ) if else Statement"
     ]
    },
    {
     "cell_type": "code",
     "collapsed": false,
     "input": [
      "a=input(\"Enter a even number : \")\n",
      "if a %2==0 :\n",
      "    print \"Number is even\"\n",
      "else:\n",
      "    print \"Number is Odd\""
     ],
     "language": "python",
     "metadata": {},
     "outputs": [
      {
       "name": "stdout",
       "output_type": "stream",
       "stream": "stdout",
       "text": [
        "Enter a even number : 2\n"
       ]
      },
      {
       "output_type": "stream",
       "stream": "stdout",
       "text": [
        "Number is even\n"
       ]
      }
     ],
     "prompt_number": 9
    },
    {
     "cell_type": "heading",
     "level": 3,
     "metadata": {},
     "source": [
      "3 ) if elif else Statement"
     ]
    },
    {
     "cell_type": "code",
     "collapsed": false,
     "input": [
      "per=input(\"Enter your percentage : \")\n",
      "\n",
      "if per >= 75 :\n",
      "    print \"Distinction\"\n",
      "elif per >= 60:\n",
      "    print \"First Class\"\n",
      "elif per >= 45 :\n",
      "    print \"Secound Class\"\n",
      "elif per >=35 :\n",
      "    print \"Third Class\"\n",
      "else:\n",
      "    print \"Sorry ! Failed\"\n"
     ],
     "language": "python",
     "metadata": {},
     "outputs": [
      {
       "name": "stdout",
       "output_type": "stream",
       "stream": "stdout",
       "text": [
        "Enter your percentage : 45.3\n"
       ]
      },
      {
       "output_type": "stream",
       "stream": "stdout",
       "text": [
        "Secound Class\n"
       ]
      }
     ],
     "prompt_number": 10
    },
    {
     "cell_type": "heading",
     "level": 3,
     "metadata": {},
     "source": [
      "4 ) Nested if else suite"
     ]
    },
    {
     "cell_type": "code",
     "collapsed": false,
     "input": [
      "age = input(\"Enter your Age : \")\n",
      "gender = raw_input(\"Enter Gender [M / F]: \")\n",
      "if gender in ('M','m'):\n",
      "    if age > 60:\n",
      "        print \"35% discount\"\n",
      "    else:\n",
      "        print \"20% discount\"\n",
      "elif gender in ('F','f'):\n",
      "    if age > 60:\n",
      "        print \"40% discount\"\n",
      "    else:\n",
      "        print \"25% discount\"\n",
      "else:\n",
      "    print \"Invalid choice !\""
     ],
     "language": "python",
     "metadata": {},
     "outputs": [
      {
       "name": "stdout",
       "output_type": "stream",
       "stream": "stdout",
       "text": [
        "Enter your Age : 65\n"
       ]
      },
      {
       "name": "stdout",
       "output_type": "stream",
       "stream": "stdout",
       "text": [
        "Enter Gender [M / F]: f\n"
       ]
      },
      {
       "output_type": "stream",
       "stream": "stdout",
       "text": [
        "40% discount\n"
       ]
      }
     ],
     "prompt_number": 12
    }
   ],
   "metadata": {}
  }
 ]
}