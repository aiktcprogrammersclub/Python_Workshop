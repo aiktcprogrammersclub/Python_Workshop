{
 "metadata": {
  "name": "",
  "signature": "sha256:cd31d5bc139aff6fedba4ca502aabc6178946a37d0d29a939215aee87a0a3681"
 },
 "nbformat": 3,
 "nbformat_minor": 0,
 "worksheets": [
  {
   "cells": [
    {
     "cell_type": "heading",
     "level": 3,
     "metadata": {},
     "source": [
      "Comprehensive List"
     ]
    },
    {
     "cell_type": "code",
     "collapsed": false,
     "input": [
      "[i for i in range(10)]"
     ],
     "language": "python",
     "metadata": {},
     "outputs": [
      {
       "metadata": {},
       "output_type": "pyout",
       "prompt_number": 1,
       "text": [
        "[0, 1, 2, 3, 4, 5, 6, 7, 8, 9]"
       ]
      }
     ],
     "prompt_number": 1
    },
    {
     "cell_type": "code",
     "collapsed": false,
     "input": [
      "[i*2 for i in range(1,11)]"
     ],
     "language": "python",
     "metadata": {},
     "outputs": [
      {
       "metadata": {},
       "output_type": "pyout",
       "prompt_number": 5,
       "text": [
        "[2, 4, 6, 8, 10, 12, 14, 16, 18, 20]"
       ]
      }
     ],
     "prompt_number": 5
    },
    {
     "cell_type": "heading",
     "level": 3,
     "metadata": {},
     "source": [
      "Factorial of number using for loop"
     ]
    },
    {
     "cell_type": "code",
     "collapsed": false,
     "input": [
      "n=5\n",
      "fact=1\n",
      "for i in range(1,n+1):\n",
      "    fact*=i\n",
      "print fact"
     ],
     "language": "python",
     "metadata": {},
     "outputs": [
      {
       "output_type": "stream",
       "stream": "stdout",
       "text": [
        "120\n"
       ]
      }
     ],
     "prompt_number": 10
    },
    {
     "cell_type": "heading",
     "level": 3,
     "metadata": {},
     "source": [
      "Fibonacci Series using while loop"
     ]
    },
    {
     "cell_type": "code",
     "collapsed": false,
     "input": [
      "n=10\n",
      "a,b=0,1\n",
      "while True:\n",
      "    a,b=b,a+b\n",
      "    if n<=b:\n",
      "        break\n",
      "    print b"
     ],
     "language": "python",
     "metadata": {},
     "outputs": [
      {
       "output_type": "stream",
       "stream": "stdout",
       "text": [
        "1\n",
        "2\n",
        "3\n",
        "5\n",
        "8\n"
       ]
      }
     ],
     "prompt_number": 15
    },
    {
     "cell_type": "code",
     "collapsed": false,
     "input": [
      "n=\"153\"\n",
      "print True if int(n)==sum([int(i)**3 for i in n]) else False"
     ],
     "language": "python",
     "metadata": {},
     "outputs": [
      {
       "output_type": "stream",
       "stream": "stdout",
       "text": [
        "True\n"
       ]
      }
     ],
     "prompt_number": 21
    },
    {
     "cell_type": "heading",
     "level": 3,
     "metadata": {},
     "source": [
      "Prime number or not using for ... else "
     ]
    },
    {
     "cell_type": "code",
     "collapsed": false,
     "input": [
      "n=7\n",
      "for i in range(2,n):\n",
      "    if n%i==0:\n",
      "        print \"Not Prime\"\n",
      "        break\n",
      "else:\n",
      "    print \"prime\""
     ],
     "language": "python",
     "metadata": {},
     "outputs": [
      {
       "output_type": "stream",
       "stream": "stdout",
       "text": [
        "prime\n"
       ]
      }
     ],
     "prompt_number": 26
    },
    {
     "cell_type": "heading",
     "level": 3,
     "metadata": {},
     "source": [
      "Prime Number or not using while ... else"
     ]
    },
    {
     "cell_type": "code",
     "collapsed": false,
     "input": [
      "n=5\n",
      "i=2\n",
      "while i<n:\n",
      "    if n%i == 0:\n",
      "        print \"Not a prime Number\"\n",
      "        break\n",
      "    i+=1\n",
      "else:\n",
      "    print \"Prime Number\""
     ],
     "language": "python",
     "metadata": {},
     "outputs": [
      {
       "output_type": "stream",
       "stream": "stdout",
       "text": [
        "Prime Number\n"
       ]
      }
     ],
     "prompt_number": 51
    },
    {
     "cell_type": "code",
     "collapsed": false,
     "input": [
      "class fact(object):\n",
      "    \n",
      "    def factorial(self, n):\n",
      "        if n == 1:\n",
      "            return 1\n",
      "        return n*self.factorial(n-1)\n",
      "        \n",
      "f = fact()\n",
      "f.factorial(5)\n",
      "        \n",
      "        "
     ],
     "language": "python",
     "metadata": {},
     "outputs": [
      {
       "metadata": {},
       "output_type": "pyout",
       "prompt_number": 4,
       "text": [
        "120"
       ]
      }
     ],
     "prompt_number": 4
    }
   ],
   "metadata": {}
  }
 ]
}