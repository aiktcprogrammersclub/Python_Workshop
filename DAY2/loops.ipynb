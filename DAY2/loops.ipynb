{
 "metadata": {
  "name": "",
  "signature": "sha256:5cbbae6d8467b06d7e6625bfa5521e8caf068509a5f20637270d5842d7da2b64"
 },
 "nbformat": 3,
 "nbformat_minor": 0,
 "worksheets": [
  {
   "cells": [
    {
     "cell_type": "heading",
     "level": 1,
     "metadata": {},
     "source": [
      "1] while loop<br>\n",
      "2] for loop<br>\n",
      "3] range function<br>\n",
      "4] break statement<br>\n",
      "5] continue statement<br>\n",
      "6] pass statement"
     ]
    },
    {
     "cell_type": "heading",
     "level": 1,
     "metadata": {},
     "source": [
      "While loop"
     ]
    },
    {
     "cell_type": "heading",
     "level": 2,
     "metadata": {},
     "source": [
      "1)print upto n numbers"
     ]
    },
    {
     "cell_type": "code",
     "collapsed": false,
     "input": [
      "n=input(\"Enter No : \")\n",
      "i=1\n",
      "while (i<=n):\n",
      "    print i\n",
      "    i +=1"
     ],
     "language": "python",
     "metadata": {},
     "outputs": [
      {
       "name": "stdout",
       "output_type": "stream",
       "stream": "stdout",
       "text": [
        "Enter No : 5\n"
       ]
      },
      {
       "output_type": "stream",
       "stream": "stdout",
       "text": [
        "1\n",
        "2\n",
        "3\n",
        "4\n",
        "5\n"
       ]
      }
     ],
     "prompt_number": 4
    },
    {
     "cell_type": "heading",
     "level": 2,
     "metadata": {},
     "source": [
      "2) 2's table"
     ]
    },
    {
     "cell_type": "code",
     "collapsed": false,
     "input": [
      "n=input(\"Enter No : \")\n",
      "i=1\n",
      "while(i<=10):\n",
      "    print n*i \n",
      "    i+=1"
     ],
     "language": "python",
     "metadata": {},
     "outputs": [
      {
       "name": "stdout",
       "output_type": "stream",
       "stream": "stdout",
       "text": [
        "Enter No : 3\n"
       ]
      },
      {
       "output_type": "stream",
       "stream": "stdout",
       "text": [
        "3\n",
        "6\n",
        "9\n",
        "12\n",
        "15\n",
        "18\n",
        "21\n",
        "24\n",
        "27\n",
        "30\n"
       ]
      }
     ],
     "prompt_number": 6
    },
    {
     "cell_type": "heading",
     "level": 2,
     "metadata": {},
     "source": [
      "3) parttern 1"
     ]
    },
    {
     "cell_type": "code",
     "collapsed": false,
     "input": [
      "n = input(\"Enter a number : \")\n",
      "s=\"*\"\n",
      "i=1\n",
      "while(i<n):\n",
      "    print s*i\n",
      "    i+=1"
     ],
     "language": "python",
     "metadata": {},
     "outputs": [
      {
       "name": "stdout",
       "output_type": "stream",
       "stream": "stdout",
       "text": [
        "Enter a number : 8\n"
       ]
      },
      {
       "output_type": "stream",
       "stream": "stdout",
       "text": [
        "*\n",
        "**\n",
        "***\n",
        "****\n",
        "*****\n",
        "******\n",
        "*******\n"
       ]
      }
     ],
     "prompt_number": 10
    },
    {
     "cell_type": "heading",
     "level": 1,
     "metadata": {},
     "source": [
      "For loop"
     ]
    },
    {
     "cell_type": "heading",
     "level": 2,
     "metadata": {},
     "source": [
      "1) sum of given no."
     ]
    },
    {
     "cell_type": "code",
     "collapsed": false,
     "input": [
      "a=[1,2,3,46,56]\n",
      "sum=0\n",
      "for i in a:\n",
      "    sum+=i\n",
      "print sum"
     ],
     "language": "python",
     "metadata": {},
     "outputs": [
      {
       "output_type": "stream",
       "stream": "stdout",
       "text": [
        "108\n"
       ]
      }
     ],
     "prompt_number": 6
    },
    {
     "cell_type": "heading",
     "level": 2,
     "metadata": {},
     "source": [
      "range function"
     ]
    },
    {
     "cell_type": "code",
     "collapsed": false,
     "input": [
      "print range(0,11,2)"
     ],
     "language": "python",
     "metadata": {},
     "outputs": [
      {
       "output_type": "stream",
       "stream": "stdout",
       "text": [
        "[0, 2, 4, 6, 8, 10]\n"
       ]
      }
     ],
     "prompt_number": 7
    },
    {
     "cell_type": "code",
     "collapsed": false,
     "input": [
      "print range(2,20)"
     ],
     "language": "python",
     "metadata": {},
     "outputs": [
      {
       "output_type": "stream",
       "stream": "stdout",
       "text": [
        "[2, 3, 4, 5, 6, 7, 8, 9, 10, 11, 12, 13, 14, 15, 16, 17, 18, 19]\n"
       ]
      }
     ],
     "prompt_number": 9
    },
    {
     "cell_type": "code",
     "collapsed": false,
     "input": [
      "print range(10)"
     ],
     "language": "python",
     "metadata": {},
     "outputs": [
      {
       "output_type": "stream",
       "stream": "stdout",
       "text": [
        "[0, 1, 2, 3, 4, 5, 6, 7, 8, 9]\n"
       ]
      }
     ],
     "prompt_number": 8
    },
    {
     "cell_type": "heading",
     "level": 2,
     "metadata": {},
     "source": [
      "2)for loop with range fuction (sum of n number)"
     ]
    },
    {
     "cell_type": "code",
     "collapsed": false,
     "input": [
      "n = input(\"Enter a numeber : \")\n",
      "sum=0\n",
      "for i in range(n+1):\n",
      "    sum+=i\n",
      "print sum"
     ],
     "language": "python",
     "metadata": {},
     "outputs": [
      {
       "name": "stdout",
       "output_type": "stream",
       "stream": "stdout",
       "text": [
        "Enter a numeber : 15\n"
       ]
      },
      {
       "output_type": "stream",
       "stream": "stdout",
       "text": [
        "120\n"
       ]
      }
     ],
     "prompt_number": 11
    },
    {
     "cell_type": "heading",
     "level": 2,
     "metadata": {},
     "source": [
      "3)parttern 2"
     ]
    },
    {
     "cell_type": "code",
     "collapsed": false,
     "input": [
      "n = input(\"Enter a numeber : \")\n",
      "temp=s=\"*\"\n",
      "for i in range(0,n):\n",
      "    print s\n",
      "    s+=temp"
     ],
     "language": "python",
     "metadata": {},
     "outputs": [
      {
       "name": "stdout",
       "output_type": "stream",
       "stream": "stdout",
       "text": [
        "Enter a numeber : 5\n"
       ]
      },
      {
       "output_type": "stream",
       "stream": "stdout",
       "text": [
        "*\n",
        "**\n",
        "***\n",
        "****\n",
        "*****\n"
       ]
      }
     ],
     "prompt_number": 7
    },
    {
     "cell_type": "heading",
     "level": 1,
     "metadata": {},
     "source": [
      "break statement\n"
     ]
    },
    {
     "cell_type": "heading",
     "level": 2,
     "metadata": {},
     "source": [
      "for loop "
     ]
    },
    {
     "cell_type": "code",
     "collapsed": false,
     "input": [
      "n = input(\"Enter a numeber : \")\n",
      "for i in range(1,n+1):\n",
      "    if(i==5):\n",
      "        break\n",
      "    print i"
     ],
     "language": "python",
     "metadata": {},
     "outputs": [
      {
       "name": "stdout",
       "output_type": "stream",
       "stream": "stdout",
       "text": [
        "Enter a numeber : 10\n"
       ]
      },
      {
       "output_type": "stream",
       "stream": "stdout",
       "text": [
        "1\n",
        "2\n",
        "3\n",
        "4\n"
       ]
      }
     ],
     "prompt_number": 11
    },
    {
     "cell_type": "heading",
     "level": 2,
     "metadata": {},
     "source": [
      "while loop"
     ]
    },
    {
     "cell_type": "code",
     "collapsed": false,
     "input": [
      "n = input(\"Enter a numeber : \")\n",
      "i=0\n",
      "while(i<n):\n",
      "    i+=1\n",
      "    if(i==5):\n",
      "        break\n",
      "    print i"
     ],
     "language": "python",
     "metadata": {},
     "outputs": [
      {
       "name": "stdout",
       "output_type": "stream",
       "stream": "stdout",
       "text": [
        "Enter a numeber : 10\n"
       ]
      },
      {
       "output_type": "stream",
       "stream": "stdout",
       "text": [
        "1\n",
        "2\n",
        "3\n",
        "4\n"
       ]
      }
     ],
     "prompt_number": 2
    },
    {
     "cell_type": "heading",
     "level": 1,
     "metadata": {},
     "source": [
      "continue statement\n"
     ]
    },
    {
     "cell_type": "heading",
     "level": 2,
     "metadata": {},
     "source": [
      "for loop "
     ]
    },
    {
     "cell_type": "code",
     "collapsed": false,
     "input": [
      "n = input(\"Enter a numeber : \")\n",
      "for i in range(1,n+1):\n",
      "    if(i==5):\n",
      "        continue\n",
      "    print i"
     ],
     "language": "python",
     "metadata": {},
     "outputs": [
      {
       "name": "stdout",
       "output_type": "stream",
       "stream": "stdout",
       "text": [
        "Enter a numeber : 10\n"
       ]
      },
      {
       "output_type": "stream",
       "stream": "stdout",
       "text": [
        "1\n",
        "2\n",
        "3\n",
        "4\n",
        "6\n",
        "7\n",
        "8\n",
        "9\n",
        "10\n"
       ]
      }
     ],
     "prompt_number": 3
    },
    {
     "cell_type": "heading",
     "level": 2,
     "metadata": {},
     "source": [
      "while loop"
     ]
    },
    {
     "cell_type": "code",
     "collapsed": false,
     "input": [
      "n = input(\"Enter a numeber : \")\n",
      "i=0\n",
      "while(i<n):\n",
      "    i+=1\n",
      "    if(i==5):\n",
      "        continue\n",
      "    print i"
     ],
     "language": "python",
     "metadata": {},
     "outputs": [
      {
       "name": "stdout",
       "output_type": "stream",
       "stream": "stdout",
       "text": [
        "Enter a numeber : 10\n"
       ]
      },
      {
       "output_type": "stream",
       "stream": "stdout",
       "text": [
        "1\n",
        "2\n",
        "3\n",
        "4\n",
        "6\n",
        "7\n",
        "8\n",
        "9\n",
        "10\n"
       ]
      }
     ],
     "prompt_number": 4
    }
   ],
   "metadata": {}
  }
 ]
}