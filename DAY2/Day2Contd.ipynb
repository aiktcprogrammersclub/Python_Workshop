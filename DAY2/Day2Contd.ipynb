{
 "metadata": {
  "name": "",
  "signature": "sha256:e858d3c0d1eddd07c6f22d6f990c5580cb89465f7475bd888c3de0e1095c3dfc"
 },
 "nbformat": 3,
 "nbformat_minor": 0,
 "worksheets": [
  {
   "cells": [
    {
     "cell_type": "markdown",
     "metadata": {},
     "source": [
      "<pre> <h1>          Functions and Functional Programming.</h1></pre>"
     ]
    },
    {
     "cell_type": "markdown",
     "metadata": {},
     "source": [
      "## What Are Functions?\n",
      "\n",
      "+ Functions are the structured or procedural programming way of organizing the logic in your programs.\n",
      "Large blocks of code can be neatly segregated into manageable chunks, and space is saved by putting\n",
      "oft-repeated code in functions as opposed to multiple copies everywherethis also helps with consistency\n",
      "because changing the single copy means you do not have to hunt for and make changes to multiple\n",
      "copies of duplicated code."
     ]
    },
    {
     "cell_type": "code",
     "collapsed": false,
     "input": [
      "def foo(): \n",
      "    print 'bar'\n",
      "\n",
      "print type(foo)\n",
      "foo()"
     ],
     "language": "python",
     "metadata": {},
     "outputs": [
      {
       "output_type": "stream",
       "stream": "stdout",
       "text": [
        "<type 'function'>\n",
        "bar\n"
       ]
      }
     ],
     "prompt_number": 4
    },
    {
     "cell_type": "markdown",
     "metadata": {},
     "source": [
      "## Functions versus Procedures\n",
      "  +  Function return value, Procedures don't\n",
      "## Return Values and Function Types\n",
      "+ Return Values and Function Types\n",
      "+ Calling Functions\n",
      "    + Function Operator                   i:e===============> ()    \n",
      "  \n",
      "    + Default Arguments\n",
      "    + Grouped Arguments\n",
      "     ```\n",
      "        func(*tuple_grp_nonkw_args, **dict_grp_kw_args)\n",
      "        ```\n",
      "      "
     ]
    },
    {
     "cell_type": "markdown",
     "metadata": {},
     "source": [
      "##    Keyword Arguments"
     ]
    },
    {
     "cell_type": "code",
     "collapsed": false,
     "input": [
      "def foo(host, port):\n",
      "    print \"%s is Host and %s is port\" %(host, port)\n",
      "    \n",
      "foo(port=80, host=\"google.com\")    "
     ],
     "language": "python",
     "metadata": {},
     "outputs": [
      {
       "output_type": "stream",
       "stream": "stdout",
       "text": [
        "google.com is Host and 80 is port\n"
       ]
      }
     ],
     "prompt_number": 54
    },
    {
     "cell_type": "heading",
     "level": 1,
     "metadata": {},
     "source": [
      " Passing Functions"
     ]
    },
    {
     "cell_type": "code",
     "collapsed": false,
     "input": [
      "#passing function\n",
      "\n",
      "def foo():\n",
      "    print \"Inside foo\"\n",
      "    \n",
      "bar = foo\n",
      "bar()\n",
      "\n",
      "def buz(arg):\n",
      "    arg()\n",
      " \n",
      "buz(foo)    \n"
     ],
     "language": "python",
     "metadata": {},
     "outputs": [
      {
       "output_type": "stream",
       "stream": "stdout",
       "text": [
        "Inside foo\n",
        "Inside foo\n"
       ]
      }
     ],
     "prompt_number": 12
    },
    {
     "cell_type": "markdown",
     "metadata": {},
     "source": [
      "##numConv.py\n",
      "\n",
      "*  A more realistic example of passing functions as arguments and invoking them from within\n",
      "the function. This script simply converts a sequence of numbers to the same type using the\n",
      "conversion function that is passed in. In particular, the test() function passes in a built-in\n",
      "function int() , long() , or float() to perform the conversion.\n"
     ]
    },
    {
     "cell_type": "code",
     "collapsed": false,
     "input": [
      "#!/usr/bin/env python\n",
      "def convert(func, seq):\n",
      "    'conv. sequence of numbers to same type'\n",
      "    return [func(eachNum) for eachNum in seq]\n",
      "\n",
      "myseq = (123, 45.67, -6.2e8, 999999999L) \n",
      "\n",
      "print convert(int, myseq)\n",
      "print convert(long, myseq)\n",
      "print convert(float, myseq)\n"
     ],
     "language": "python",
     "metadata": {},
     "outputs": [
      {
       "output_type": "stream",
       "stream": "stdout",
       "text": [
        "[123, 45, -620000000, 999999999]\n",
        "[123L, 45L, -620000000L, 999999999L]\n",
        "[123.0, 45.67, -620000000.0, 999999999.0]\n"
       ]
      }
     ],
     "prompt_number": 16
    },
    {
     "cell_type": "markdown",
     "metadata": {},
     "source": [
      "### Forward refrencing.\n"
     ]
    },
    {
     "cell_type": "code",
     "collapsed": false,
     "input": [
      "#Forward refrencing.\n",
      "\n",
      "def foo():\n",
      "    print \"Inside foo\"\n",
      "    lbar()\n",
      "\n",
      "\n",
      "foo()\n",
      "def lbar():\n",
      "    print \"s\"\n",
      "    "
     ],
     "language": "python",
     "metadata": {},
     "outputs": [
      {
       "output_type": "stream",
       "stream": "stdout",
       "text": [
        "Inside foo\n"
       ]
      },
      {
       "ename": "NameError",
       "evalue": "global name 'lbar' is not defined",
       "output_type": "pyerr",
       "traceback": [
        "\u001b[1;31m---------------------------------------------------------------------------\u001b[0m\n\u001b[1;31mNameError\u001b[0m                                 Traceback (most recent call last)",
        "\u001b[1;32m<ipython-input-22-fc8333f0bb3f>\u001b[0m in \u001b[0;36m<module>\u001b[1;34m()\u001b[0m\n\u001b[0;32m      6\u001b[0m \u001b[1;33m\u001b[0m\u001b[0m\n\u001b[0;32m      7\u001b[0m \u001b[1;33m\u001b[0m\u001b[0m\n\u001b[1;32m----> 8\u001b[1;33m \u001b[0mfoo\u001b[0m\u001b[1;33m(\u001b[0m\u001b[1;33m)\u001b[0m\u001b[1;33m\u001b[0m\u001b[0m\n\u001b[0m\u001b[0;32m      9\u001b[0m \u001b[1;32mdef\u001b[0m \u001b[0mlbar\u001b[0m\u001b[1;33m(\u001b[0m\u001b[1;33m)\u001b[0m\u001b[1;33m:\u001b[0m\u001b[1;33m\u001b[0m\u001b[0m\n\u001b[0;32m     10\u001b[0m     \u001b[1;32mprint\u001b[0m \u001b[1;34m\"s\"\u001b[0m\u001b[1;33m\u001b[0m\u001b[0m\n",
        "\u001b[1;32m<ipython-input-22-fc8333f0bb3f>\u001b[0m in \u001b[0;36mfoo\u001b[1;34m()\u001b[0m\n\u001b[0;32m      3\u001b[0m \u001b[1;32mdef\u001b[0m \u001b[0mfoo\u001b[0m\u001b[1;33m(\u001b[0m\u001b[1;33m)\u001b[0m\u001b[1;33m:\u001b[0m\u001b[1;33m\u001b[0m\u001b[0m\n\u001b[0;32m      4\u001b[0m     \u001b[1;32mprint\u001b[0m \u001b[1;34m\"Inside foo\"\u001b[0m\u001b[1;33m\u001b[0m\u001b[0m\n\u001b[1;32m----> 5\u001b[1;33m     \u001b[0mlbar\u001b[0m\u001b[1;33m(\u001b[0m\u001b[1;33m)\u001b[0m\u001b[1;33m\u001b[0m\u001b[0m\n\u001b[0m\u001b[0;32m      6\u001b[0m \u001b[1;33m\u001b[0m\u001b[0m\n\u001b[0;32m      7\u001b[0m \u001b[1;33m\u001b[0m\u001b[0m\n",
        "\u001b[1;31mNameError\u001b[0m: global name 'lbar' is not defined"
       ]
      }
     ],
     "prompt_number": 22
    },
    {
     "cell_type": "markdown",
     "metadata": {},
     "source": [
      "## Adding docs for functions after their creation"
     ]
    },
    {
     "cell_type": "code",
     "collapsed": false,
     "input": [
      "def foo():\n",
      "    x = 10\n",
      "    print \"Inside foo\"\n",
      "    \n",
      "print foo.__doc__  \n",
      "foo.__doc__  = \"This is docs for foo\"\n",
      "foo.version  = 1.0\n",
      "\n",
      "print foo.__doc__\n",
      "print foo.version\n",
      "\n"
     ],
     "language": "python",
     "metadata": {},
     "outputs": [
      {
       "output_type": "stream",
       "stream": "stdout",
       "text": [
        "None\n",
        "This is docs for foo\n",
        "1.0\n"
       ]
      }
     ],
     "prompt_number": 33
    },
    {
     "cell_type": "markdown",
     "metadata": {},
     "source": [
      "## Inner or Nested Functions"
     ]
    },
    {
     "cell_type": "code",
     "collapsed": false,
     "input": [
      "def foo():\n",
      "    def bar():\n",
      "        print \"Inside bar\"\n",
      "    print \"Inside foo\"\n",
      "    bar()\n",
      "    \n",
      "foo()\n",
      "#bar()\n"
     ],
     "language": "python",
     "metadata": {},
     "outputs": [
      {
       "output_type": "stream",
       "stream": "stdout",
       "text": [
        "Inside foo\n",
        "Inside bar\n"
       ]
      }
     ],
     "prompt_number": 1
    },
    {
     "cell_type": "markdown",
     "metadata": {},
     "source": [
      "## Function (and Method) Decorators\n",
      "* Decorators are used as a crossing cutting concern for things like logging, timestamping, preprocessing."
     ]
    },
    {
     "cell_type": "code",
     "collapsed": false,
     "input": [
      "from time import ctime, sleep                          #ctime == current-time\n",
      "\n",
      "def tsfunc(func):\n",
      "    def wrapperFunc():\n",
      "        print '[%s], Time-stamp for %s() called' % (ctime(), func.__name__ )\n",
      "        return func()\n",
      "    return wrapperFunc\n",
      "\n",
      "@tsfunc\n",
      "def foo():\n",
      "    print \"Inside from foo\"\n",
      "\n",
      "@tsfunc\n",
      "def bar():\n",
      "    print \"Inside from bar\"\n",
      "    \n",
      "foo()\n",
      "bar()"
     ],
     "language": "python",
     "metadata": {},
     "outputs": [
      {
       "output_type": "stream",
       "stream": "stdout",
       "text": [
        "[Thu Dec 31 02:36:27 2015], Time-stamp for foo() called\n",
        "Inside from foo\n",
        "[Thu Dec 31 02:36:27 2015], Time-stamp for bar() called\n",
        "Inside from bar\n"
       ]
      }
     ],
     "prompt_number": 2
    },
    {
     "cell_type": "markdown",
     "metadata": {},
     "source": [
      "## Formal arguments\n",
      "## Positional arguments\n",
      "## Default argumments"
     ]
    },
    {
     "cell_type": "code",
     "collapsed": false,
     "input": [
      "def yourName(name):\n",
      "    print \"Your name is %s\"% name\n",
      "    \n",
      "yourName(\"zain\")    \n",
      "\n",
      "def taxMe(cost, rate=0.0825):\n",
      "    return cost+(cost * rate)\n",
      "\n",
      "print taxMe(100)\n",
      "print taxMe(100, 0.05)"
     ],
     "language": "python",
     "metadata": {},
     "outputs": [
      {
       "output_type": "stream",
       "stream": "stdout",
       "text": [
        "Your name is zain\n",
        "108.25\n",
        "105.0\n"
       ]
      }
     ],
     "prompt_number": 58
    },
    {
     "cell_type": "markdown",
     "metadata": {},
     "source": [
      "* Variable-Length Arguments\n",
      "  ========================\n",
      "  + Non-Keyword Variable Arguments (Tuple)\n",
      "  + Keyword Variable Arguments (Dictionary)"
     ]
    },
    {
     "cell_type": "code",
     "collapsed": false,
     "input": [
      "\n",
      "\n",
      "def varArgs(a=0, b=0, *wargs):\n",
      "    print a, b\n",
      "    for i in wargs:\n",
      "        print i\n",
      "\n",
      "def foo(a=0, b=0):\n",
      "    print \"....................Inside foo\"\n",
      "    print a, b\n",
      "    \n",
      "varArgs(10, 20, 40, 50)\n",
      "\n",
      "foo(b=10, a=20)"
     ],
     "language": "python",
     "metadata": {},
     "outputs": [
      {
       "output_type": "stream",
       "stream": "stdout",
       "text": [
        "10 20\n",
        "40\n",
        "50\n",
        "....................Inside foo\n",
        "20 10\n"
       ]
      }
     ],
     "prompt_number": 18
    },
    {
     "cell_type": "code",
     "collapsed": false,
     "input": [
      "def varKwargs(a, b, **kwargs):\n",
      "    print a, b\n",
      "    for i in kwargs.keys():\n",
      "        print i, \" : \", kwargs[i]\n",
      "        \n",
      "varKwargs(10, 20, c= 30, d=10, e=12)"
     ],
     "language": "python",
     "metadata": {},
     "outputs": [
      {
       "output_type": "stream",
       "stream": "stdout",
       "text": [
        "10 20\n",
        "c  :  30\n",
        "e  :  12\n",
        "d  :  10\n"
       ]
      }
     ],
     "prompt_number": 28
    },
    {
     "cell_type": "code",
     "collapsed": false,
     "input": [
      "def newFoo(a, b, *args, **kwargs):\n",
      "    print \"a=\", a\n",
      "    print \"b=\", b\n",
      "    for i in  args:\n",
      "        print i\n",
      "    for i in  kwargs:\n",
      "        print i , \": \", kwargs[i]\n",
      "        \n",
      "newFoo(10, 20, 30,30, 40, c = 10, d = 20 )        "
     ],
     "language": "python",
     "metadata": {},
     "outputs": [
      {
       "output_type": "stream",
       "stream": "stdout",
       "text": [
        "a= 10\n",
        "b= 20\n",
        "30\n",
        "30\n",
        "40\n",
        "c :  10\n",
        "d :  20\n"
       ]
      }
     ],
     "prompt_number": 1
    },
    {
     "cell_type": "markdown",
     "metadata": {},
     "source": [
      "## Functional programming example:\n"
     ]
    },
    {
     "cell_type": "code",
     "collapsed": false,
     "input": [
      "def testit(fun, *args, **kwargs):\n",
      "    try:\n",
      "        retValue = fun(*args, **kwargs)\n",
      "        result = (True, retValue)\n",
      "    except Exception, diag:\n",
      "        return(False, str(diag))\n",
      "    return result\n",
      "        \n",
      "\n",
      "def test():\n",
      "    funTypes = (int, long, float)\n",
      "    values   = (1234, 12.34, '1234', '123.4')\n",
      "    for f in funTypes:\n",
      "        print '-'*100\n",
      "        for v in values:\n",
      "            ret = testit(f, v)\n",
      "            if ret[0]:\n",
      "                print \"%s(%s)  = %s  \" % (f.__name__, `v`, ret[1])\n",
      "            else:\n",
      "                \n",
      "                print \"[Failed] %s(%s)  = %s   \" % (f.__name__, `v`, ret[1])\n",
      "if __name__ == \"__main__\":\n",
      "    test()"
     ],
     "language": "python",
     "metadata": {},
     "outputs": [
      {
       "output_type": "stream",
       "stream": "stdout",
       "text": [
        "----------------------------------------------------------------------------------------------------\n",
        "int(1234)  = 1234  \n",
        "int(12.34)  = 12  \n",
        "int('1234')  = 1234  \n",
        "[Failed] int('123.4')  = invalid literal for int() with base 10: '123.4'   \n",
        "----------------------------------------------------------------------------------------------------\n",
        "long(1234)  = 1234  \n",
        "long(12.34)  = 12  \n",
        "long('1234')  = 1234  \n",
        "[Failed] long('123.4')  = invalid literal for long() with base 10: '123.4'   \n",
        "----------------------------------------------------------------------------------------------------\n",
        "float(1234)  = 1234.0  \n",
        "float(12.34)  = 12.34  \n",
        "float('1234')  = 1234.0  \n",
        "float('123.4')  = 123.4  \n"
       ]
      }
     ],
     "prompt_number": 3
    },
    {
     "cell_type": "markdown",
     "metadata": {},
     "source": [
      "# Functional Programming"
     ]
    },
    {
     "cell_type": "code",
     "collapsed": false,
     "input": [
      "'''\n",
      "def Func(): return True\n",
      "'''\n",
      "\n",
      "a = lambda : True\n",
      "\n",
      "b = lambda x, y:  x+ y\n",
      "\n",
      "c = lambda x, y=2: x+y\n",
      "\n",
      "d = lambda *z : z\n",
      "\n",
      "print a()\n",
      "print b(10, 20)\n",
      "\n",
      "print c(10)\n",
      "print d(10, 20, 30)"
     ],
     "language": "python",
     "metadata": {},
     "outputs": [
      {
       "output_type": "stream",
       "stream": "stdout",
       "text": [
        "True\n",
        "30\n",
        "12\n",
        "(10, 20, 30)\n"
       ]
      }
     ],
     "prompt_number": 69
    },
    {
     "cell_type": "markdown",
     "metadata": {},
     "source": [
      "# Functional Programming Built-in Functions"
     ]
    },
    {
     "cell_type": "markdown",
     "metadata": {},
     "source": [
      "### Filter\n",
      "   + Imagine going to an orchard andleaving with a bag of apples you picked off the trees. Wouldn't it be nice if you could run the entire bag through a filter to keep just the good ones? That is the main premise of the filter( ) function\n",
      "    "
     ]
    },
    {
     "cell_type": "code",
     "collapsed": false,
     "input": [
      "'''\n",
      "def odd(n):\n",
      "    return n%2\n",
      "'''\n",
      "import random\n",
      "l= []\n",
      "for i in range(10):\n",
      "    l.append(random.randint(1, 99))\n",
      "\n",
      "print l    \n",
      "print filter(lambda x : x%2, l )    \n"
     ],
     "language": "python",
     "metadata": {},
     "outputs": [
      {
       "output_type": "stream",
       "stream": "stdout",
       "text": [
        "[32, 88, 61, 67, 99, 33, 88, 15, 15, 69]\n",
        "[61, 67, 99, 33, 15, 15, 69]\n"
       ]
      }
     ],
     "prompt_number": 4
    },
    {
     "cell_type": "markdown",
     "metadata": {},
     "source": [
      "### Map\n",
      "   + The map() built-in function is similar to filter() in that it can process a sequence through a function. However, unlike filter() , map() \"maps\" the function call to each sequence item and returns a list consisting of all return values"
     ]
    },
    {
     "cell_type": "code",
     "collapsed": false,
     "input": [
      "l = range(6)\n",
      "print l\n",
      "print map(lambda x: x+2, l)\n",
      "\n",
      "print map(lambda x: x**2, l)\n",
      "\n",
      "print map(None, [1, 2, 3], [4, 5, 6])\n",
      "\n",
      "print map(lambda x, y: (x+y, x-y), [1,3,5], [2,4,6])"
     ],
     "language": "python",
     "metadata": {},
     "outputs": [
      {
       "output_type": "stream",
       "stream": "stdout",
       "text": [
        "[0, 1, 2, 3, 4, 5]\n",
        "[2, 3, 4, 5, 6, 7]\n",
        "[0, 1, 4, 9, 16, 25]\n",
        "[(1, 4), (2, 5), (3, 6)]\n",
        "[(3, -1), (7, -1), (11, -1)]\n"
       ]
      }
     ],
     "prompt_number": 77
    },
    {
     "cell_type": "markdown",
     "metadata": {},
     "source": [
      "##reduce\n",
      "   + The final functional programming piece is reduce() , which takes a binary function (a function that takes two values, performs some calculation and returns one value as output), a sequence, and an optional initializer, and methodologically \"reduces\" the contents of that list down to a single value, hence its name\n",
      "\n",
      "\n",
      "\n",
      "   +     reduce(function, sequence[, initial]) -> value\n",
      "    \n",
      "    Apply a function of two arguments cumulatively to the items of a sequence,\n",
      "    from left to right, so as to reduce the sequence to a single value.\n",
      "    For example, `reduce(lambda x, y: x+y, [1, 2, 3, 4, 5])`,  calculates\n",
      "    ((((1+2)+3)+4)+5).  If initial is present, it is placed before the items\n",
      "    of the sequence in the calculation, and serves as a default when the\n",
      "    sequence is empty.\n",
      "\n"
     ]
    },
    {
     "cell_type": "code",
     "collapsed": false,
     "input": [
      "a = lambda x, y: x+y\n",
      "print a(1,1)\n",
      "\n",
      "ll = range(5)\n",
      "print ll\n",
      "print reduce(lambda x, y: x+y, range(5))"
     ],
     "language": "python",
     "metadata": {},
     "outputs": [
      {
       "output_type": "stream",
       "stream": "stdout",
       "text": [
        "2\n",
        "[0, 1, 2, 3, 4]\n",
        "10\n"
       ]
      }
     ],
     "prompt_number": 5
    },
    {
     "cell_type": "markdown",
     "metadata": {},
     "source": [
      "# Variable Scope\n"
     ]
    },
    {
     "cell_type": "code",
     "collapsed": false,
     "input": [
      "global_str = 'foo'\n",
      "local_str  = \"zain\"\n",
      "def foo():\n",
      "    local_str = 'bar'\n",
      "    #global global_str\n",
      "    global_str = \"juju\"\n",
      "    return global_str +  local_str\n",
      "\n",
      "print foo()\n",
      "print global_str\n",
      "print local_str"
     ],
     "language": "python",
     "metadata": {},
     "outputs": [
      {
       "output_type": "stream",
       "stream": "stdout",
       "text": [
        "jujubar\n",
        "foo\n",
        "zain\n"
       ]
      }
     ],
     "prompt_number": 12
    },
    {
     "cell_type": "code",
     "collapsed": false,
     "input": [
      "def foo():\n",
      "    m=5\n",
      "    def bar():\n",
      "        n=2\n",
      "        def buz():\n",
      "            l = 4\n",
      "            #print o\n",
      "            def ju():\n",
      "                o=3\n",
      "                print m, n, l, o\n",
      "            ju()\n",
      "        buz()\n",
      "    bar()\n",
      "    \n",
      "\n",
      "foo()            "
     ],
     "language": "python",
     "metadata": {},
     "outputs": [
      {
       "output_type": "stream",
       "stream": "stdout",
       "text": [
        "5 2 4 3\n"
       ]
      }
     ],
     "prompt_number": 126
    },
    {
     "cell_type": "markdown",
     "metadata": {},
     "source": [
      "Closures\n",
      "=========\n"
     ]
    },
    {
     "cell_type": "code",
     "collapsed": false,
     "input": [
      "def counting():\n",
      "    a=10\n",
      "    def incr():\n",
      "        print \"hello\", a    \n",
      "    return incr\n",
      "\n",
      "f = counting()\n",
      "f()\n"
     ],
     "language": "python",
     "metadata": {},
     "outputs": [
      {
       "output_type": "stream",
       "stream": "stdout",
       "text": [
        "hello 10\n"
       ]
      }
     ],
     "prompt_number": 133
    }
   ],
   "metadata": {}
  }
 ]
}